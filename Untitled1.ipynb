{
 "cells": [
  {
   "cell_type": "code",
   "execution_count": 1,
   "metadata": {},
   "outputs": [],
   "source": [
    "with open (\"bible.txt\", \"r\") as myfile:\n",
    "    bible = myfile.readlines()"
   ]
  },
  {
   "cell_type": "code",
   "execution_count": 2,
   "metadata": {},
   "outputs": [
    {
     "data": {
      "text/plain": [
       "'Genesis 1:1\\tIn the beginning God created the heaven and the earth.\\n'"
      ]
     },
     "execution_count": 2,
     "metadata": {},
     "output_type": "execute_result"
    }
   ],
   "source": [
    "bible[0]"
   ]
  },
  {
   "cell_type": "code",
   "execution_count": 3,
   "metadata": {},
   "outputs": [
    {
     "data": {
      "text/plain": [
       "list"
      ]
     },
     "execution_count": 3,
     "metadata": {},
     "output_type": "execute_result"
    }
   ],
   "source": [
    "type(bible)"
   ]
  },
  {
   "cell_type": "code",
   "execution_count": 4,
   "metadata": {
    "collapsed": true
   },
   "outputs": [],
   "source": [
    "import pandas as pd"
   ]
  },
  {
   "cell_type": "code",
   "execution_count": 5,
   "metadata": {},
   "outputs": [],
   "source": [
    "bible = list(map(lambda x: str(x).split('\\t'), bible))"
   ]
  },
  {
   "cell_type": "code",
   "execution_count": 8,
   "metadata": {},
   "outputs": [],
   "source": [
    "df_bible = pd.DataFrame(list(bible))"
   ]
  },
  {
   "cell_type": "code",
   "execution_count": null,
   "metadata": {
    "collapsed": true
   },
   "outputs": [],
   "source": [
    "df_bible.columns = ['Verse', 'Text']"
   ]
  },
  {
   "cell_type": "code",
   "execution_count": 17,
   "metadata": {},
   "outputs": [
    {
     "data": {
      "text/plain": [
       "0        In the beginning God created the heaven and th...\n",
       "1        And the earth was without form, and void; and ...\n",
       "2        And God said, Let there be light: and there wa...\n",
       "3        And God saw the light, that it was good: and G...\n",
       "4        And God called the light Day, and the darkness...\n",
       "5        And God said, Let there be a firmament in the ...\n",
       "6        And God made the firmament, and divided the wa...\n",
       "7        And God called the firmament Heaven. And the e...\n",
       "8        And God said, Let the waters under the heaven ...\n",
       "9        And God called the dry land Earth; and the gat...\n",
       "10       And God said, Let the earth bring forth grass,...\n",
       "11       And the earth brought forth grass, and herb yi...\n",
       "12       And the evening and the morning were the third...\n",
       "13       And God said, Let there be lights in the firma...\n",
       "14       And let them be for lights in the firmament of...\n",
       "15       And God made two great lights; the greater lig...\n",
       "16       And God set them in the firmament of the heave...\n",
       "17       And to rule over the day and over the night, a...\n",
       "18       And the evening and the morning were the fourt...\n",
       "19       And God said, Let the waters bring forth abund...\n",
       "20       And God created great whales, and every living...\n",
       "21       And God blessed them, saying, Be fruitful, and...\n",
       "22       And the evening and the morning were the fifth...\n",
       "23       And God said, Let the earth bring forth the li...\n",
       "24       And God made the beast of the earth after his ...\n",
       "25       And God said, Let us make man in our image, af...\n",
       "26       So God created man in his own image, in the im...\n",
       "27       And God blessed them, and God said unto them, ...\n",
       "28       And God said, Behold, I have given you every h...\n",
       "29       And to every beast of the earth, and to every ...\n",
       "                               ...                        \n",
       "31072    And the foundations of the wall of the city we...\n",
       "31073    The fifth, sardonyx; the sixth, sardius; the s...\n",
       "31074    And the twelve gates were twelve pearls: every...\n",
       "31075    And I saw no temple therein: for the Lord God ...\n",
       "31076    And the city had no need of the sun, neither o...\n",
       "31077    And the nations of them which are saved shall ...\n",
       "31078    And the gates of it shall not be shut at all b...\n",
       "31079    And they shall bring the glory and honour of t...\n",
       "31080    And there shall in no wise enter into it any t...\n",
       "31081    And he shewed me a pure river of water of life...\n",
       "31082    In the midst of the street of it, and on eithe...\n",
       "31083    And there shall be no more curse: but the thro...\n",
       "31084    And they shall see his face; and his name shal...\n",
       "31085    And there shall be no night there; and they ne...\n",
       "31086    And he said unto me, These sayings are faithfu...\n",
       "31087    Behold, I come quickly: blessed is he that kee...\n",
       "31088    And I John saw these things, and heard them. A...\n",
       "31089    Then saith he unto me, See thou do it not: for...\n",
       "31090    And he saith unto me, Seal not the sayings of ...\n",
       "31091    He that is unjust, let him be unjust still: an...\n",
       "31092    And, behold, I come quickly; and my reward is ...\n",
       "31093    I am Alpha and Omega, the beginning and the en...\n",
       "31094    Blessed are they that do his commandments, tha...\n",
       "31095    For without are dogs, and sorcerers, and whore...\n",
       "31096    I Jesus have sent mine angel to testify unto y...\n",
       "31097    And the Spirit and the bride say, Come. And le...\n",
       "31098    For I testify unto every man that heareth the ...\n",
       "31099    And if any man shall take away from the words ...\n",
       "31100    He which testifieth these things saith, Surely...\n",
       "31101    The grace of our Lord Jesus Christ be with you...\n",
       "Name: Text, Length: 31102, dtype: object"
      ]
     },
     "execution_count": 17,
     "metadata": {},
     "output_type": "execute_result"
    }
   ],
   "source": [
    "df_bible['Text'].apply(lambda x: x.rstrip('\\n'))"
   ]
  },
  {
   "cell_type": "code",
   "execution_count": null,
   "metadata": {
    "collapsed": true
   },
   "outputs": [],
   "source": [
    "df_bible"
   ]
  }
 ],
 "metadata": {
  "kernelspec": {
   "display_name": "Python 3",
   "language": "python",
   "name": "python3"
  },
  "language_info": {
   "codemirror_mode": {
    "name": "ipython",
    "version": 3
   },
   "file_extension": ".py",
   "mimetype": "text/x-python",
   "name": "python",
   "nbconvert_exporter": "python",
   "pygments_lexer": "ipython3",
   "version": "3.6.2"
  }
 },
 "nbformat": 4,
 "nbformat_minor": 2
}
