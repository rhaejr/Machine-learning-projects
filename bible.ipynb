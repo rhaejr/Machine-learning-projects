{
 "cells": [
  {
   "cell_type": "code",
   "execution_count": 1,
   "metadata": {
    "collapsed": true
   },
   "outputs": [],
   "source": [
    "with open (\"bible.txt\", \"r\") as myfile:\n",
    "    bible = myfile.readlines()"
   ]
  },
  {
   "cell_type": "code",
   "execution_count": 2,
   "metadata": {},
   "outputs": [
    {
     "data": {
      "text/plain": [
       "'Genesis 1:1\\tIn the beginning God created the heaven and the earth.\\n'"
      ]
     },
     "execution_count": 2,
     "metadata": {},
     "output_type": "execute_result"
    }
   ],
   "source": [
    "bible[0]"
   ]
  },
  {
   "cell_type": "code",
   "execution_count": 3,
   "metadata": {},
   "outputs": [
    {
     "data": {
      "text/plain": [
       "list"
      ]
     },
     "execution_count": 3,
     "metadata": {},
     "output_type": "execute_result"
    }
   ],
   "source": [
    "type(bible)"
   ]
  },
  {
   "cell_type": "code",
   "execution_count": 4,
   "metadata": {
    "collapsed": true
   },
   "outputs": [],
   "source": [
    "import pandas as pd"
   ]
  },
  {
   "cell_type": "code",
   "execution_count": 5,
   "metadata": {
    "collapsed": true
   },
   "outputs": [],
   "source": [
    "bible = list(map(lambda x: str(x).split('\\t'), bible))"
   ]
  },
  {
   "cell_type": "code",
   "execution_count": 6,
   "metadata": {
    "collapsed": true
   },
   "outputs": [],
   "source": [
    "df_bible = pd.DataFrame(list(bible))"
   ]
  },
  {
   "cell_type": "code",
   "execution_count": 7,
   "metadata": {
    "collapsed": true
   },
   "outputs": [],
   "source": [
    "df_bible.columns = ['Verse', 'Text']"
   ]
  },
  {
   "cell_type": "code",
   "execution_count": 8,
   "metadata": {
    "collapsed": true
   },
   "outputs": [],
   "source": [
    "df_bible['Text'] = df_bible['Text'].apply(lambda x: x.rstrip('\\n'))"
   ]
  },
  {
   "cell_type": "code",
   "execution_count": 9,
   "metadata": {},
   "outputs": [
    {
     "data": {
      "text/html": [
       "<div>\n",
       "<style>\n",
       "    .dataframe thead tr:only-child th {\n",
       "        text-align: right;\n",
       "    }\n",
       "\n",
       "    .dataframe thead th {\n",
       "        text-align: left;\n",
       "    }\n",
       "\n",
       "    .dataframe tbody tr th {\n",
       "        vertical-align: top;\n",
       "    }\n",
       "</style>\n",
       "<table border=\"1\" class=\"dataframe\">\n",
       "  <thead>\n",
       "    <tr style=\"text-align: right;\">\n",
       "      <th></th>\n",
       "      <th>Verse</th>\n",
       "      <th>Text</th>\n",
       "    </tr>\n",
       "  </thead>\n",
       "  <tbody>\n",
       "    <tr>\n",
       "      <th>31097</th>\n",
       "      <td>Revelation 22:17</td>\n",
       "      <td>And the Spirit and the bride say, Come. And le...</td>\n",
       "    </tr>\n",
       "    <tr>\n",
       "      <th>31098</th>\n",
       "      <td>Revelation 22:18</td>\n",
       "      <td>For I testify unto every man that heareth the ...</td>\n",
       "    </tr>\n",
       "    <tr>\n",
       "      <th>31099</th>\n",
       "      <td>Revelation 22:19</td>\n",
       "      <td>And if any man shall take away from the words ...</td>\n",
       "    </tr>\n",
       "    <tr>\n",
       "      <th>31100</th>\n",
       "      <td>Revelation 22:20</td>\n",
       "      <td>He which testifieth these things saith, Surely...</td>\n",
       "    </tr>\n",
       "    <tr>\n",
       "      <th>31101</th>\n",
       "      <td>Revelation 22:21</td>\n",
       "      <td>The grace of our Lord Jesus Christ be with you...</td>\n",
       "    </tr>\n",
       "  </tbody>\n",
       "</table>\n",
       "</div>"
      ],
      "text/plain": [
       "                  Verse                                               Text\n",
       "31097  Revelation 22:17  And the Spirit and the bride say, Come. And le...\n",
       "31098  Revelation 22:18  For I testify unto every man that heareth the ...\n",
       "31099  Revelation 22:19  And if any man shall take away from the words ...\n",
       "31100  Revelation 22:20  He which testifieth these things saith, Surely...\n",
       "31101  Revelation 22:21  The grace of our Lord Jesus Christ be with you..."
      ]
     },
     "execution_count": 9,
     "metadata": {},
     "output_type": "execute_result"
    }
   ],
   "source": [
    "df_bible.tail()"
   ]
  },
  {
   "cell_type": "code",
   "execution_count": 10,
   "metadata": {
    "collapsed": true
   },
   "outputs": [],
   "source": [
    "import seaborn as sns\n",
    "import matplotlib.pyplot as plt"
   ]
  },
  {
   "cell_type": "code",
   "execution_count": 11,
   "metadata": {
    "collapsed": true
   },
   "outputs": [],
   "source": [
    "%matplotlib inline"
   ]
  },
  {
   "cell_type": "code",
   "execution_count": 12,
   "metadata": {
    "collapsed": true
   },
   "outputs": [],
   "source": [
    "len_verse = df_bible['Text'].apply(lambda x:len(x))"
   ]
  },
  {
   "cell_type": "code",
   "execution_count": 13,
   "metadata": {},
   "outputs": [
    {
     "data": {
      "text/plain": [
       "0     54\n",
       "1    142\n",
       "2     54\n",
       "3     85\n",
       "4    115\n",
       "Name: Text, dtype: int64"
      ]
     },
     "execution_count": 13,
     "metadata": {},
     "output_type": "execute_result"
    }
   ],
   "source": [
    "len_verse.head()"
   ]
  },
  {
   "cell_type": "code",
   "execution_count": 14,
   "metadata": {},
   "outputs": [
    {
     "data": {
      "text/plain": [
       "<matplotlib.axes._subplots.AxesSubplot at 0x2a5bea8e710>"
      ]
     },
     "execution_count": 14,
     "metadata": {},
     "output_type": "execute_result"
    },
    {
     "data": {
      "image/png": "[encoded data removed]",
      "text/plain": [
       "<matplotlib.figure.Figure at 0x2a5bea82e10>"
      ]
     },
     "metadata": {},
     "output_type": "display_data"
    }
   ],
   "source": [
    "sns.distplot(len_verse, bins=100,kde=False)"
   ]
  },
  {
   "cell_type": "code",
   "execution_count": 15,
   "metadata": {},
   "outputs": [
    {
     "data": {
      "text/plain": [
       "0    In the beginning God created the heaven and th...\n",
       "1    And the earth was without form, and void; and ...\n",
       "2    And God said, Let there be light: and there wa...\n",
       "3    And God saw the light, that it was good: and G...\n",
       "4    And God called the light Day, and the darkness...\n",
       "Name: Text, dtype: object"
      ]
     },
     "execution_count": 15,
     "metadata": {},
     "output_type": "execute_result"
    }
   ],
   "source": [
    "df_bible['Text'].head()"
   ]
  },
  {
   "cell_type": "code",
   "execution_count": 16,
   "metadata": {
    "collapsed": true
   },
   "outputs": [],
   "source": [
    "df_bible['Just letters'] = df_bible['Text'].apply(lambda string: ''.join(e for e in string if e.isalnum()))"
   ]
  },
  {
   "cell_type": "code",
   "execution_count": 17,
   "metadata": {},
   "outputs": [
    {
     "data": {
      "text/plain": [
       "'InthebeginningGodcreatedtheheavenandtheearth'"
      ]
     },
     "execution_count": 17,
     "metadata": {},
     "output_type": "execute_result"
    }
   ],
   "source": [
    "df_bible['Just letters'].loc[0]"
   ]
  },
  {
   "cell_type": "code",
   "execution_count": 18,
   "metadata": {
    "collapsed": true
   },
   "outputs": [],
   "source": [
    "df_bible['Len Letters'] = df_bible['Just letters'].apply(lambda x:len(x))"
   ]
  },
  {
   "cell_type": "code",
   "execution_count": 19,
   "metadata": {},
   "outputs": [
    {
     "data": {
      "text/plain": [
       "<matplotlib.axes._subplots.AxesSubplot at 0x2a5c0b73f60>"
      ]
     },
     "execution_count": 19,
     "metadata": {},
     "output_type": "execute_result"
    },
    {
     "data": {
      "image/png": "[encoded data removed]",
      "text/plain": [
       "<matplotlib.figure.Figure at 0x2a5ac1ea240>"
      ]
     },
     "metadata": {},
     "output_type": "display_data"
    }
   ],
   "source": [
    "sns.distplot(df_bible['Len Letters'],kde=False, bins=100)"
   ]
  },
  {
   "cell_type": "code",
   "execution_count": 20,
   "metadata": {},
   "outputs": [
    {
     "data": {
      "text/plain": [
       "65    349\n",
       "66    345\n",
       "71    341\n",
       "64    335\n",
       "63    330\n",
       "Name: Len Letters, dtype: int64"
      ]
     },
     "execution_count": 20,
     "metadata": {},
     "output_type": "execute_result"
    }
   ],
   "source": [
    "df_bible['Len Letters'].value_counts().head()"
   ]
  },
  {
   "cell_type": "code",
   "execution_count": 21,
   "metadata": {},
   "outputs": [
    {
     "data": {
      "text/plain": [
       "103.59709986496046"
      ]
     },
     "execution_count": 21,
     "metadata": {},
     "output_type": "execute_result"
    }
   ],
   "source": [
    "df_bible['Len Letters'].mean()"
   ]
  },
  {
   "cell_type": "code",
   "execution_count": 22,
   "metadata": {},
   "outputs": [
    {
     "data": {
      "text/plain": [
       "And the LORD spake unto Moses, saying,                                                                                                                                                                                                      72\n",
       "One kid of the goats for a sin offering:                                                                                                                                                                                                    12\n",
       "One young bullock, one ram, one lamb of the first year, for a burnt offering:                                                                                                                                                               12\n",
       "And the word of the LORD came unto me, saying,                                                                                                                                                                                              12\n",
       "One golden spoon of ten shekels, full of incense:                                                                                                                                                                                           10\n",
       "Moreover the word of the LORD came unto me, saying,                                                                                                                                                                                          8\n",
       "His offering was one silver charger, the weight whereof was an hundred and thirty shekels, one silver bowl of seventy shekels, after the shekel of the sanctuary; both of them full of fine flour mingled with oil for a meat offering:      7\n",
       "And the LORD spake unto Moses and unto Aaron, saying,                                                                                                                                                                                        7\n",
       "The word of the LORD came again unto me, saying,                                                                                                                                                                                             6\n",
       "Again the word of the LORD came unto me, saying,                                                                                                                                                                                             6\n",
       "And their meat offering and their drink offerings for the bullocks, for the rams, and for the lambs, shall be according to their number, after the manner:                                                                                   5\n",
       "Oh that men would praise the LORD for his goodness, and for his wonderful works to the children of men!                                                                                                                                      4\n",
       "Then Job answered and said,                                                                                                                                                                                                                  4\n",
       "The grace of our Lord Jesus Christ be with you all. Amen.                                                                                                                                                                                    4\n",
       "He that hath an ear, let him hear what the Spirit saith unto the churches.                                                                                                                                                                   4\n",
       "Then came the word of the LORD unto Jeremiah, saying,                                                                                                                                                                                        3\n",
       "Where their worm dieth not, and the fire is not quenched.                                                                                                                                                                                    3\n",
       "But Job answered and said,                                                                                                                                                                                                                   3\n",
       "Then the word of the LORD came unto me, saying,                                                                                                                                                                                              3\n",
       "And one goat for a sin offering; beside the continual burnt offering, and his meat offering, and his drink offering.                                                                                                                         3\n",
       "Then answered Bildad the Shuhite, and said,                                                                                                                                                                                                  3\n",
       "For where your treasure is, there will your heart be also.                                                                                                                                                                                   2\n",
       "The LORD of hosts is with us; the God of Jacob is our refuge. Selah.                                                                                                                                                                         2\n",
       "The children of Neziah, the children of Hatipha.                                                                                                                                                                                             2\n",
       "I tell you, Nay: but, except ye repent, ye shall all likewise perish.                                                                                                                                                                        2\n",
       "Moreover Job continued his parable, and said,                                                                                                                                                                                                2\n",
       "Blessed is that servant, whom his lord when he cometh shall find so doing.                                                                                                                                                                   2\n",
       "And Joktan begat Almodad, and Sheleph, and Hazarmaveth, and Jerah,                                                                                                                                                                           2\n",
       "The children of Ater of Hezekiah, ninety and eight.                                                                                                                                                                                          2\n",
       "The sons of Japheth; Gomer, and Magog, and Madai, and Javan, and Tubal, and Meshech, and Tiras.                                                                                                                                              2\n",
       "                                                                                                                                                                                                                                            ..\n",
       "Now Naaman, captain of the host of the king of Syria, was a great man with his master, and honorable, because by him the LORD had given deliverance unto Syria: he was also a mighty man in valor, but he was a leper.                       1\n",
       "But as truly as I live, all the earth shall be filled with the glory of the LORD.                                                                                                                                                            1\n",
       "And he brought the people's offering, and took the goat, which was the sin offering for the people, and slew it, and offered it for sin, as the first.                                                                                       1\n",
       "For I know that the LORD is great, and that our Lord is above all gods.                                                                                                                                                                      1\n",
       "They shall be abundantly satisfied with the fatness of thy house; and thou shalt make them drink of the river of thy pleasures.                                                                                                              1\n",
       "Out of the mouth of babes and sucklings hast thou ordained strength because of thine enemies, that thou mightest still the enemy and the avenger.                                                                                            1\n",
       "Behold, there came fire down from heaven, and burnt up the two captains of the former fifties with their fifties: therefore let my life now be precious in thy sight.                                                                        1\n",
       "And them that are turned back from the LORD; and those that have not sought the LORD, nor enquired for him.                                                                                                                                  1\n",
       "Behold, I will make Jerusalem a cup of trembling unto all the people round about, when they shall be in the siege both against Judah and against Jerusalem.                                                                                  1\n",
       "And as they were loosing the colt, the owners thereof said unto them, Why loose ye the colt?                                                                                                                                                 1\n",
       "And on the sabbath we went out of the city by a river side, where prayer was wont to be made; and we sat down, and spake unto the women which resorted thither.                                                                              1\n",
       "If a damsel that is a virgin be betrothed unto an husband, and a man find her in the city, and lie with her;                                                                                                                                 1\n",
       "And they took the things which Micah had made, and the priest which he had, and came unto Laish, unto a people that were at quiet and secure: and they smote them with the edge of the sword, and burnt the city with fire.                  1\n",
       "And Rehoboam made Abijah the son of Maachah the chief, to be ruler among his brethren: for he thought to make him king.                                                                                                                      1\n",
       "And the sons of Naphtali; Jahzeel, and Guni, and Jezer, and Shillem.                                                                                                                                                                         1\n",
       "But Jesus answered and said, Ye know not what ye ask. Are ye able to drink of the cup that I shall drink of, and to be baptized with the baptism that I am baptized with? They say unto him, We are able.                                    1\n",
       "But thou hast fulfilled the judgment of the wicked: judgment and justice take hold on thee.                                                                                                                                                  1\n",
       "I will seek that which was lost, and bring again that which was driven away, and will bind up that which was broken, and will strengthen that which was sick: but I will destroy the fat and the strong; I will feed them with judgment.     1\n",
       "And they said unto him, Wherefore saith my lord these words? God forbid that thy servants should do according to this thing:                                                                                                                 1\n",
       "Paul said to the centurion and to the soldiers, Except these abide in the ship, ye cannot be saved.                                                                                                                                          1\n",
       "And the rest of the acts of Solomon, and all that he did, and his wisdom, are they not written in the book of the acts of Solomon?                                                                                                           1\n",
       "For if God spared not the angels that sinned, but cast them down to hell, and delivered them into chains of darkness, to be reserved unto judgment;                                                                                          1\n",
       "They say unto him, Because no man hath hired us. He saith unto them, Go ye also into the vineyard; and whatsoever is right, that shall ye receive.                                                                                           1\n",
       "They arose, all the valiant men, and took away the body of Saul, and the bodies of his sons, and brought them to Jabesh, and buried their bones under the oak in Jabesh, and fasted seven days.                                              1\n",
       "And when he had tarried among them more than ten days, he went down unto Caesarea; and the next day sitting on the judgment seat commanded Paul to be brought.                                                                               1\n",
       "He hath not dealt so with any nation: and as for his judgments, they have not known them. Praise ye the LORD.                                                                                                                                1\n",
       "And all the princes, and the mighty men, and all the sons likewise of king David, submitted themselves unto Solomon the king.                                                                                                                1\n",
       "Then the king said to the wise men, which knew the times, (for so was the king's manner toward all that knew law and judgment:                                                                                                               1\n",
       "And he said, Thy name shall be called no more Jacob, but Israel: for as a prince hast thou power with God and with men, and hast prevailed.                                                                                                  1\n",
       "When his disciples heard it, they were exceedingly amazed, saying, Who then can be saved?                                                                                                                                                    1\n",
       "Name: Text, Length: 30833, dtype: int64"
      ]
     },
     "execution_count": 22,
     "metadata": {},
     "output_type": "execute_result"
    }
   ],
   "source": [
    "df_bible['Text'].value_counts()"
   ]
  },
  {
   "cell_type": "code",
   "execution_count": 23,
   "metadata": {
    "collapsed": true
   },
   "outputs": [],
   "source": [
    "df_bible['Len Words'] = df_bible['Text'].apply(lambda x:len(x.split()))"
   ]
  },
  {
   "cell_type": "code",
   "execution_count": 24,
   "metadata": {},
   "outputs": [
    {
     "data": {
      "text/html": [
       "<div>\n",
       "<style>\n",
       "    .dataframe thead tr:only-child th {\n",
       "        text-align: right;\n",
       "    }\n",
       "\n",
       "    .dataframe thead th {\n",
       "        text-align: left;\n",
       "    }\n",
       "\n",
       "    .dataframe tbody tr th {\n",
       "        vertical-align: top;\n",
       "    }\n",
       "</style>\n",
       "<table border=\"1\" class=\"dataframe\">\n",
       "  <thead>\n",
       "    <tr style=\"text-align: right;\">\n",
       "      <th></th>\n",
       "      <th>Text</th>\n",
       "      <th>Len Words</th>\n",
       "    </tr>\n",
       "  </thead>\n",
       "  <tbody>\n",
       "    <tr>\n",
       "      <th>0</th>\n",
       "      <td>In the beginning God created the heaven and th...</td>\n",
       "      <td>10</td>\n",
       "    </tr>\n",
       "    <tr>\n",
       "      <th>1</th>\n",
       "      <td>And the earth was without form, and void; and ...</td>\n",
       "      <td>29</td>\n",
       "    </tr>\n",
       "    <tr>\n",
       "      <th>2</th>\n",
       "      <td>And God said, Let there be light: and there wa...</td>\n",
       "      <td>11</td>\n",
       "    </tr>\n",
       "    <tr>\n",
       "      <th>3</th>\n",
       "      <td>And God saw the light, that it was good: and G...</td>\n",
       "      <td>17</td>\n",
       "    </tr>\n",
       "    <tr>\n",
       "      <th>4</th>\n",
       "      <td>And God called the light Day, and the darkness...</td>\n",
       "      <td>22</td>\n",
       "    </tr>\n",
       "  </tbody>\n",
       "</table>\n",
       "</div>"
      ],
      "text/plain": [
       "                                                Text  Len Words\n",
       "0  In the beginning God created the heaven and th...         10\n",
       "1  And the earth was without form, and void; and ...         29\n",
       "2  And God said, Let there be light: and there wa...         11\n",
       "3  And God saw the light, that it was good: and G...         17\n",
       "4  And God called the light Day, and the darkness...         22"
      ]
     },
     "execution_count": 24,
     "metadata": {},
     "output_type": "execute_result"
    }
   ],
   "source": [
    "df_bible[['Text','Len Words']].head()"
   ]
  },
  {
   "cell_type": "code",
   "execution_count": 25,
   "metadata": {},
   "outputs": [
    {
     "data": {
      "text/plain": [
       "'In the beginning God created the heaven and the earth.'"
      ]
     },
     "execution_count": 25,
     "metadata": {},
     "output_type": "execute_result"
    }
   ],
   "source": [
    "df_bible['Text'].loc[0]"
   ]
  },
  {
   "cell_type": "code",
   "execution_count": 26,
   "metadata": {
    "collapsed": true
   },
   "outputs": [],
   "source": [
    "with open (\"bible.txt\", \"r\") as myfile:\n",
    "    bible = myfile.readlines()"
   ]
  },
  {
   "cell_type": "code",
   "execution_count": 27,
   "metadata": {
    "collapsed": true
   },
   "outputs": [],
   "source": [
    "bible = list(map(lambda x: str(x).split('\\t'), bible))"
   ]
  },
  {
   "cell_type": "code",
   "execution_count": 28,
   "metadata": {
    "collapsed": true
   },
   "outputs": [],
   "source": [
    "bible = pd.DataFrame(list(bible))"
   ]
  },
  {
   "cell_type": "code",
   "execution_count": 29,
   "metadata": {
    "collapsed": true
   },
   "outputs": [],
   "source": [
    "bible.columns = ['Verse', 'Text']"
   ]
  },
  {
   "cell_type": "code",
   "execution_count": 30,
   "metadata": {
    "collapsed": true
   },
   "outputs": [],
   "source": [
    "str_whole_bible = ''\n",
    "for i in bible['Text']:\n",
    "    str_whole_bible += i"
   ]
  },
  {
   "cell_type": "code",
   "execution_count": 31,
   "metadata": {
    "collapsed": true
   },
   "outputs": [],
   "source": [
    "str_whole_bible = str_whole_bible.replace('\\n', ' ')"
   ]
  },
  {
   "cell_type": "code",
   "execution_count": 32,
   "metadata": {},
   "outputs": [
    {
     "data": {
      "text/plain": [
       "4137428"
      ]
     },
     "execution_count": 32,
     "metadata": {},
     "output_type": "execute_result"
    }
   ],
   "source": [
    "len(str_whole_bible)"
   ]
  },
  {
   "cell_type": "code",
   "execution_count": 33,
   "metadata": {
    "collapsed": true
   },
   "outputs": [],
   "source": [
    "import re\n",
    "whole_bible = re.sub(r'([^\\s\\w]|_)+', '', str_whole_bible)"
   ]
  },
  {
   "cell_type": "code",
   "execution_count": 34,
   "metadata": {
    "collapsed": true
   },
   "outputs": [],
   "source": [
    "whole_bible = pd.DataFrame(whole_bible.split())"
   ]
  },
  {
   "cell_type": "code",
   "execution_count": 35,
   "metadata": {
    "collapsed": true
   },
   "outputs": [],
   "source": [
    "whole_bible[1] = whole_bible[0].apply(lambda x: x.lower())"
   ]
  },
  {
   "cell_type": "code",
   "execution_count": 36,
   "metadata": {},
   "outputs": [
    {
     "data": {
      "text/plain": [
       "789627"
      ]
     },
     "execution_count": 36,
     "metadata": {},
     "output_type": "execute_result"
    }
   ],
   "source": [
    "len(whole_bible[1])"
   ]
  },
  {
   "cell_type": "code",
   "execution_count": 37,
   "metadata": {
    "collapsed": true
   },
   "outputs": [],
   "source": [
    "import string"
   ]
  },
  {
   "cell_type": "code",
   "execution_count": 38,
   "metadata": {
    "collapsed": true
   },
   "outputs": [],
   "source": [
    "import nltk"
   ]
  },
  {
   "cell_type": "code",
   "execution_count": 39,
   "metadata": {},
   "outputs": [
    {
     "data": {
      "text/plain": [
       "False    8708\n",
       "True     4019\n",
       "Name: 1, dtype: int64"
      ]
     },
     "execution_count": 39,
     "metadata": {},
     "output_type": "execute_result"
    }
   ],
   "source": [
    "one_time = whole_bible[1].value_counts() == 1\n",
    "one_time.value_counts()"
   ]
  },
  {
   "cell_type": "code",
   "execution_count": 40,
   "metadata": {},
   "outputs": [],
   "source": [
    "whole_bible.columns = ['Words', 'Lower Words']"
   ]
  },
  {
   "cell_type": "code",
   "execution_count": 65,
   "metadata": {},
   "outputs": [
    {
     "data": {
      "text/html": [
       "<div>\n",
       "<style>\n",
       "    .dataframe thead tr:only-child th {\n",
       "        text-align: right;\n",
       "    }\n",
       "\n",
       "    .dataframe thead th {\n",
       "        text-align: left;\n",
       "    }\n",
       "\n",
       "    .dataframe tbody tr th {\n",
       "        vertical-align: top;\n",
       "    }\n",
       "</style>\n",
       "<table border=\"1\" class=\"dataframe\">\n",
       "  <thead>\n",
       "    <tr style=\"text-align: right;\">\n",
       "      <th></th>\n",
       "      <th>Words</th>\n",
       "      <th>Lower Words</th>\n",
       "    </tr>\n",
       "  </thead>\n",
       "  <tbody>\n",
       "    <tr>\n",
       "      <th>count</th>\n",
       "      <td>789627</td>\n",
       "      <td>789627</td>\n",
       "    </tr>\n",
       "    <tr>\n",
       "      <th>unique</th>\n",
       "      <td>13718</td>\n",
       "      <td>12727</td>\n",
       "    </tr>\n",
       "    <tr>\n",
       "      <th>top</th>\n",
       "      <td>the</td>\n",
       "      <td>the</td>\n",
       "    </tr>\n",
       "    <tr>\n",
       "      <th>freq</th>\n",
       "      <td>62064</td>\n",
       "      <td>63924</td>\n",
       "    </tr>\n",
       "  </tbody>\n",
       "</table>\n",
       "</div>"
      ],
      "text/plain": [
       "         Words Lower Words\n",
       "count   789627      789627\n",
       "unique   13718       12727\n",
       "top        the         the\n",
       "freq     62064       63924"
      ]
     },
     "execution_count": 65,
     "metadata": {},
     "output_type": "execute_result"
    }
   ],
   "source": [
    "whole_bible.describe()"
   ]
  },
  {
   "cell_type": "code",
   "execution_count": 42,
   "metadata": {},
   "outputs": [],
   "source": [
    "df_bible['Text List'] = df_bible['Text'].apply(lambda x:x.split())"
   ]
  },
  {
   "cell_type": "code",
   "execution_count": 43,
   "metadata": {},
   "outputs": [
    {
     "data": {
      "text/html": [
       "<div>\n",
       "<style>\n",
       "    .dataframe thead tr:only-child th {\n",
       "        text-align: right;\n",
       "    }\n",
       "\n",
       "    .dataframe thead th {\n",
       "        text-align: left;\n",
       "    }\n",
       "\n",
       "    .dataframe tbody tr th {\n",
       "        vertical-align: top;\n",
       "    }\n",
       "</style>\n",
       "<table border=\"1\" class=\"dataframe\">\n",
       "  <thead>\n",
       "    <tr style=\"text-align: right;\">\n",
       "      <th></th>\n",
       "      <th>Verse</th>\n",
       "      <th>Text</th>\n",
       "      <th>Just letters</th>\n",
       "      <th>Len Letters</th>\n",
       "      <th>Len Words</th>\n",
       "      <th>Text List</th>\n",
       "    </tr>\n",
       "  </thead>\n",
       "  <tbody>\n",
       "    <tr>\n",
       "      <th>0</th>\n",
       "      <td>Genesis 1:1</td>\n",
       "      <td>In the beginning God created the heaven and th...</td>\n",
       "      <td>InthebeginningGodcreatedtheheavenandtheearth</td>\n",
       "      <td>44</td>\n",
       "      <td>10</td>\n",
       "      <td>[In, the, beginning, God, created, the, heaven...</td>\n",
       "    </tr>\n",
       "    <tr>\n",
       "      <th>1</th>\n",
       "      <td>Genesis 1:2</td>\n",
       "      <td>And the earth was without form, and void; and ...</td>\n",
       "      <td>Andtheearthwaswithoutformandvoidanddarknesswas...</td>\n",
       "      <td>110</td>\n",
       "      <td>29</td>\n",
       "      <td>[And, the, earth, was, without, form,, and, vo...</td>\n",
       "    </tr>\n",
       "    <tr>\n",
       "      <th>2</th>\n",
       "      <td>Genesis 1:3</td>\n",
       "      <td>And God said, Let there be light: and there wa...</td>\n",
       "      <td>AndGodsaidLettherebelightandtherewaslight</td>\n",
       "      <td>41</td>\n",
       "      <td>11</td>\n",
       "      <td>[And, God, said,, Let, there, be, light:, and,...</td>\n",
       "    </tr>\n",
       "    <tr>\n",
       "      <th>3</th>\n",
       "      <td>Genesis 1:4</td>\n",
       "      <td>And God saw the light, that it was good: and G...</td>\n",
       "      <td>AndGodsawthelightthatitwasgoodandGoddividedthe...</td>\n",
       "      <td>66</td>\n",
       "      <td>17</td>\n",
       "      <td>[And, God, saw, the, light,, that, it, was, go...</td>\n",
       "    </tr>\n",
       "    <tr>\n",
       "      <th>4</th>\n",
       "      <td>Genesis 1:5</td>\n",
       "      <td>And God called the light Day, and the darkness...</td>\n",
       "      <td>AndGodcalledthelightDayandthedarknesshecalledN...</td>\n",
       "      <td>91</td>\n",
       "      <td>22</td>\n",
       "      <td>[And, God, called, the, light, Day,, and, the,...</td>\n",
       "    </tr>\n",
       "  </tbody>\n",
       "</table>\n",
       "</div>"
      ],
      "text/plain": [
       "         Verse                                               Text  \\\n",
       "0  Genesis 1:1  In the beginning God created the heaven and th...   \n",
       "1  Genesis 1:2  And the earth was without form, and void; and ...   \n",
       "2  Genesis 1:3  And God said, Let there be light: and there wa...   \n",
       "3  Genesis 1:4  And God saw the light, that it was good: and G...   \n",
       "4  Genesis 1:5  And God called the light Day, and the darkness...   \n",
       "\n",
       "                                        Just letters  Len Letters  Len Words  \\\n",
       "0       InthebeginningGodcreatedtheheavenandtheearth           44         10   \n",
       "1  Andtheearthwaswithoutformandvoidanddarknesswas...          110         29   \n",
       "2          AndGodsaidLettherebelightandtherewaslight           41         11   \n",
       "3  AndGodsawthelightthatitwasgoodandGoddividedthe...           66         17   \n",
       "4  AndGodcalledthelightDayandthedarknesshecalledN...           91         22   \n",
       "\n",
       "                                           Text List  \n",
       "0  [In, the, beginning, God, created, the, heaven...  \n",
       "1  [And, the, earth, was, without, form,, and, vo...  \n",
       "2  [And, God, said,, Let, there, be, light:, and,...  \n",
       "3  [And, God, saw, the, light,, that, it, was, go...  \n",
       "4  [And, God, called, the, light, Day,, and, the,...  "
      ]
     },
     "execution_count": 43,
     "metadata": {},
     "output_type": "execute_result"
    }
   ],
   "source": [
    "df_bible.head()"
   ]
  },
  {
   "cell_type": "code",
   "execution_count": 44,
   "metadata": {
    "collapsed": true
   },
   "outputs": [],
   "source": [
    "def text_process(mess):\n",
    "    \"\"\"\n",
    "    Takes in a string of text, then performs the following:\n",
    "    1. Remove all punctuation\n",
    "    2. Remove all stopwords\n",
    "    3. Returns a list of the cleaned text\n",
    "    \"\"\"\n",
    "    # Check characters to see if they are in punctuation\n",
    "    nopunc = [char for char in mess if char not in string.punctuation]\n",
    "\n",
    "    # Join the characters again to form the string.\n",
    "    nopunc = ''.join(nopunc)\n",
    "    \n",
    "    # Now just remove any stopwords\n",
    "    return [word for word in nopunc.split() if word.lower() not in stopwords.words('english')]"
   ]
  },
  {
   "cell_type": "code",
   "execution_count": 45,
   "metadata": {
    "collapsed": true
   },
   "outputs": [],
   "source": [
    "from nltk.corpus import stopwords"
   ]
  },
  {
   "cell_type": "code",
   "execution_count": 46,
   "metadata": {},
   "outputs": [],
   "source": [
    "df_bible['Text List w/o Stopwords'] = df_bible['Text'].apply(text_process)"
   ]
  },
  {
   "cell_type": "code",
   "execution_count": 47,
   "metadata": {},
   "outputs": [
    {
     "data": {
      "text/plain": [
       "0             [beginning, God, created, heaven, earth]\n",
       "1    [earth, without, form, void, darkness, upon, f...\n",
       "2                       [God, said, Let, light, light]\n",
       "3    [God, saw, light, good, God, divided, light, d...\n",
       "4    [God, called, light, Day, darkness, called, Ni...\n",
       "Name: Text List w/o Stopwords, dtype: object"
      ]
     },
     "execution_count": 47,
     "metadata": {},
     "output_type": "execute_result"
    }
   ],
   "source": [
    "df_bible['Text List w/o Stopwords'].head()"
   ]
  },
  {
   "cell_type": "code",
   "execution_count": 48,
   "metadata": {
    "collapsed": true
   },
   "outputs": [],
   "source": [
    "words = []\n",
    "for i in df_bible['Text List w/o Stopwords']:\n",
    "    for j in i:\n",
    "        words.append(j.lower())\n",
    "words = pd.DataFrame(words, columns=['Words'])"
   ]
  },
  {
   "cell_type": "code",
   "execution_count": 70,
   "metadata": {},
   "outputs": [
    {
     "data": {
      "text/plain": [
       "shall           9838\n",
       "unto            8997\n",
       "lord            7830\n",
       "thou            5474\n",
       "thy             4600\n",
       "god             4443\n",
       "said            3999\n",
       "ye              3982\n",
       "thee            3826\n",
       "upon            2748\n",
       "man             2613\n",
       "israel          2565\n",
       "son             2370\n",
       "hath            2264\n",
       "king            2256\n",
       "people          2139\n",
       "came            2093\n",
       "house           2024\n",
       "come            1971\n",
       "one             1967\n",
       "children        1803\n",
       "also            1769\n",
       "day             1734\n",
       "land            1718\n",
       "men             1654\n",
       "shalt           1616\n",
       "let             1511\n",
       "go              1492\n",
       "hand            1466\n",
       "us              1448\n",
       "                ... \n",
       "tortoise           1\n",
       "gaddi              1\n",
       "feebleness         1\n",
       "crescens           1\n",
       "unperfect          1\n",
       "simri              1\n",
       "lasted             1\n",
       "repeateth          1\n",
       "eubulus            1\n",
       "concord            1\n",
       "zoheleth           1\n",
       "determine          1\n",
       "rosh               1\n",
       "assist             1\n",
       "bigthana           1\n",
       "longwinged         1\n",
       "deliverances       1\n",
       "chaldaeans         1\n",
       "abaddon            1\n",
       "gidom              1\n",
       "winnowed           1\n",
       "nohah              1\n",
       "balac              1\n",
       "bored              1\n",
       "cuthah             1\n",
       "mite               1\n",
       "terraces           1\n",
       "reverend           1\n",
       "spitting           1\n",
       "wimples            1\n",
       "Name: Words, Length: 12603, dtype: int64"
      ]
     },
     "execution_count": 70,
     "metadata": {},
     "output_type": "execute_result"
    }
   ],
   "source": [
    "words['Words'].value_counts()"
   ]
  },
  {
   "cell_type": "code",
   "execution_count": 53,
   "metadata": {},
   "outputs": [
    {
     "data": {
      "text/plain": [
       "count     374695\n",
       "unique     12603\n",
       "top        shall\n",
       "freq        9838\n",
       "Name: Words, dtype: object"
      ]
     },
     "execution_count": 53,
     "metadata": {},
     "output_type": "execute_result"
    }
   ],
   "source": [
    "words['Words'].describe()"
   ]
  },
  {
   "cell_type": "code",
   "execution_count": 62,
   "metadata": {},
   "outputs": [
    {
     "data": {
      "text/html": [
       "<div>\n",
       "<style>\n",
       "    .dataframe thead tr:only-child th {\n",
       "        text-align: right;\n",
       "    }\n",
       "\n",
       "    .dataframe thead th {\n",
       "        text-align: left;\n",
       "    }\n",
       "\n",
       "    .dataframe tbody tr th {\n",
       "        vertical-align: top;\n",
       "    }\n",
       "</style>\n",
       "<table border=\"1\" class=\"dataframe\">\n",
       "  <thead>\n",
       "    <tr style=\"text-align: right;\">\n",
       "      <th></th>\n",
       "      <th>Verse</th>\n",
       "      <th>Text</th>\n",
       "      <th>Just letters</th>\n",
       "      <th>Len Letters</th>\n",
       "      <th>Len Words</th>\n",
       "      <th>Text List</th>\n",
       "      <th>Text List w/o Stopwords</th>\n",
       "    </tr>\n",
       "  </thead>\n",
       "  <tbody>\n",
       "    <tr>\n",
       "      <th>18668</th>\n",
       "      <td>Isaiah 50:6</td>\n",
       "      <td>I gave my back to the smiters, and my cheeks t...</td>\n",
       "      <td>Igavemybacktothesmitersandmycheekstothemthatpl...</td>\n",
       "      <td>94</td>\n",
       "      <td>26</td>\n",
       "      <td>[I, gave, my, back, to, the, smiters,, and, my...</td>\n",
       "      <td>[gave, back, smiters, cheeks, plucked, hair, h...</td>\n",
       "    </tr>\n",
       "  </tbody>\n",
       "</table>\n",
       "</div>"
      ],
      "text/plain": [
       "             Verse                                               Text  \\\n",
       "18668  Isaiah 50:6  I gave my back to the smiters, and my cheeks t...   \n",
       "\n",
       "                                            Just letters  Len Letters  \\\n",
       "18668  Igavemybacktothesmitersandmycheekstothemthatpl...           94   \n",
       "\n",
       "       Len Words                                          Text List  \\\n",
       "18668         26  [I, gave, my, back, to, the, smiters,, and, my...   \n",
       "\n",
       "                                 Text List w/o Stopwords  \n",
       "18668  [gave, back, smiters, cheeks, plucked, hair, h...  "
      ]
     },
     "execution_count": 62,
     "metadata": {},
     "output_type": "execute_result"
    }
   ],
   "source": [
    "df_bible[df_bible['Text'].str.contains('spitting')]"
   ]
  },
  {
   "cell_type": "code",
   "execution_count": 59,
   "metadata": {},
   "outputs": [
    {
     "data": {
      "text/plain": [
       "'The changeable suits of apparel, and the mantles, and the wimples, and the crisping pins,'"
      ]
     },
     "execution_count": 59,
     "metadata": {},
     "output_type": "execute_result"
    }
   ],
   "source": [
    "df_bible['Text'].loc[17729]"
   ]
  },
  {
   "cell_type": "code",
   "execution_count": 69,
   "metadata": {},
   "outputs": [
    {
     "data": {
      "text/plain": [
       "the             62064\n",
       "and             38847\n",
       "of              34427\n",
       "to              13377\n",
       "And             12846\n",
       "that            12577\n",
       "in              12331\n",
       "shall            9760\n",
       "he               9666\n",
       "unto             8940\n",
       "I                8854\n",
       "his              8385\n",
       "a                7943\n",
       "for              7228\n",
       "they             6970\n",
       "be               6877\n",
       "is               6832\n",
       "him              6649\n",
       "not              6553\n",
       "LORD             6539\n",
       "them             6425\n",
       "with             5961\n",
       "it               5891\n",
       "all              5426\n",
       "thou             4890\n",
       "was              4515\n",
       "thy              4450\n",
       "which            4283\n",
       "my               4135\n",
       "me               4092\n",
       "                ...  \n",
       "Bechorath           1\n",
       "repliest            1\n",
       "respected           1\n",
       "decketh             1\n",
       "wreath              1\n",
       "cherished           1\n",
       "Shocho              1\n",
       "wimples             1\n",
       "mown                1\n",
       "Lebonah             1\n",
       "affording           1\n",
       "Leummim             1\n",
       "lingereth           1\n",
       "seam                1\n",
       "vats                1\n",
       "Dehavites           1\n",
       "threefold           1\n",
       "defamed             1\n",
       "Jahzeelites         1\n",
       "treachery           1\n",
       "gorgeous            1\n",
       "crownedst           1\n",
       "oweth               1\n",
       "windy               1\n",
       "infallible          1\n",
       "solitarily          1\n",
       "Zarethshahar        1\n",
       "thanking            1\n",
       "Beera               1\n",
       "Rule                1\n",
       "Name: Words, Length: 13718, dtype: int64"
      ]
     },
     "execution_count": 69,
     "metadata": {},
     "output_type": "execute_result"
    }
   ],
   "source": [
    "whole_bible['Words'].value_counts()"
   ]
  },
  {
   "cell_type": "code",
   "execution_count": 71,
   "metadata": {
    "collapsed": true
   },
   "outputs": [],
   "source": [
    "from nltk.stem import PorterStemmer"
   ]
  },
  {
   "cell_type": "code",
   "execution_count": 72,
   "metadata": {
    "collapsed": true
   },
   "outputs": [],
   "source": [
    "ps = PorterStemmer()"
   ]
  },
  {
   "cell_type": "code",
   "execution_count": 73,
   "metadata": {
    "collapsed": true
   },
   "outputs": [],
   "source": [
    "whole_bible['Stemmed'] = whole_bible['Lower Words'].apply(lambda x: ps.stem(x))"
   ]
  },
  {
   "cell_type": "code",
   "execution_count": 75,
   "metadata": {},
   "outputs": [
    {
     "data": {
      "text/plain": [
       "count     789627\n",
       "unique      9356\n",
       "top          the\n",
       "freq       63924\n",
       "Name: Stemmed, dtype: object"
      ]
     },
     "execution_count": 75,
     "metadata": {},
     "output_type": "execute_result"
    }
   ],
   "source": [
    "whole_bible['Stemmed'].describe()"
   ]
  },
  {
   "cell_type": "code",
   "execution_count": null,
   "metadata": {
    "collapsed": true
   },
   "outputs": [],
   "source": []
  }
 ],
 "metadata": {
  "kernelspec": {
   "display_name": "Python [default]",
   "language": "python",
   "name": "python3"
  },
  "language_info": {
   "codemirror_mode": {
    "name": "ipython",
    "version": 3
   },
   "file_extension": ".py",
   "mimetype": "text/x-python",
   "name": "python",
   "nbconvert_exporter": "python",
   "pygments_lexer": "ipython3",
   "version": "3.5.3"
  }
 },
 "nbformat": 4,
 "nbformat_minor": 2
}
