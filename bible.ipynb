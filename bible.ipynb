{
 "cells": [
  {
   "cell_type": "code",
   "execution_count": 1,
   "metadata": {
    "collapsed": true
   },
   "outputs": [],
   "source": [
    "with open (\"bible.txt\", \"r\") as myfile:\n",
    "    bible = myfile.readlines()"
   ]
  },
  {
   "cell_type": "code",
   "execution_count": 2,
   "metadata": {},
   "outputs": [
    {
     "data": {
      "text/plain": [
       "'Genesis 1:1\\tIn the beginning God created the heaven and the earth.\\n'"
      ]
     },
     "execution_count": 2,
     "metadata": {},
     "output_type": "execute_result"
    }
   ],
   "source": [
    "bible[0]"
   ]
  },
  {
   "cell_type": "code",
   "execution_count": 3,
   "metadata": {},
   "outputs": [
    {
     "data": {
      "text/plain": [
       "list"
      ]
     },
     "execution_count": 3,
     "metadata": {},
     "output_type": "execute_result"
    }
   ],
   "source": [
    "type(bible)"
   ]
  },
  {
   "cell_type": "code",
   "execution_count": 4,
   "metadata": {
    "collapsed": true
   },
   "outputs": [],
   "source": [
    "import pandas as pd"
   ]
  },
  {
   "cell_type": "code",
   "execution_count": 5,
   "metadata": {
    "collapsed": true
   },
   "outputs": [],
   "source": [
    "bible = list(map(lambda x: str(x).split('\\t'), bible))"
   ]
  },
  {
   "cell_type": "code",
   "execution_count": 6,
   "metadata": {
    "collapsed": true
   },
   "outputs": [],
   "source": [
    "df_bible = pd.DataFrame(list(bible))"
   ]
  },
  {
   "cell_type": "code",
   "execution_count": 7,
   "metadata": {
    "collapsed": true
   },
   "outputs": [],
   "source": [
    "df_bible.columns = ['Verse', 'Text']"
   ]
  },
  {
   "cell_type": "code",
   "execution_count": 8,
   "metadata": {},
   "outputs": [],
   "source": [
    "df_bible['Text'] = df_bible['Text'].apply(lambda x: x.rstrip('\\n'))"
   ]
  },
  {
   "cell_type": "code",
   "execution_count": 9,
   "metadata": {},
   "outputs": [
    {
     "data": {
      "text/html": [
       "<div>\n",
       "<style>\n",
       "    .dataframe thead tr:only-child th {\n",
       "        text-align: right;\n",
       "    }\n",
       "\n",
       "    .dataframe thead th {\n",
       "        text-align: left;\n",
       "    }\n",
       "\n",
       "    .dataframe tbody tr th {\n",
       "        vertical-align: top;\n",
       "    }\n",
       "</style>\n",
       "<table border=\"1\" class=\"dataframe\">\n",
       "  <thead>\n",
       "    <tr style=\"text-align: right;\">\n",
       "      <th></th>\n",
       "      <th>Verse</th>\n",
       "      <th>Text</th>\n",
       "    </tr>\n",
       "  </thead>\n",
       "  <tbody>\n",
       "    <tr>\n",
       "      <th>31097</th>\n",
       "      <td>Revelation 22:17</td>\n",
       "      <td>And the Spirit and the bride say, Come. And le...</td>\n",
       "    </tr>\n",
       "    <tr>\n",
       "      <th>31098</th>\n",
       "      <td>Revelation 22:18</td>\n",
       "      <td>For I testify unto every man that heareth the ...</td>\n",
       "    </tr>\n",
       "    <tr>\n",
       "      <th>31099</th>\n",
       "      <td>Revelation 22:19</td>\n",
       "      <td>And if any man shall take away from the words ...</td>\n",
       "    </tr>\n",
       "    <tr>\n",
       "      <th>31100</th>\n",
       "      <td>Revelation 22:20</td>\n",
       "      <td>He which testifieth these things saith, Surely...</td>\n",
       "    </tr>\n",
       "    <tr>\n",
       "      <th>31101</th>\n",
       "      <td>Revelation 22:21</td>\n",
       "      <td>The grace of our Lord Jesus Christ be with you...</td>\n",
       "    </tr>\n",
       "  </tbody>\n",
       "</table>\n",
       "</div>"
      ],
      "text/plain": [
       "                  Verse                                               Text\n",
       "31097  Revelation 22:17  And the Spirit and the bride say, Come. And le...\n",
       "31098  Revelation 22:18  For I testify unto every man that heareth the ...\n",
       "31099  Revelation 22:19  And if any man shall take away from the words ...\n",
       "31100  Revelation 22:20  He which testifieth these things saith, Surely...\n",
       "31101  Revelation 22:21  The grace of our Lord Jesus Christ be with you..."
      ]
     },
     "execution_count": 9,
     "metadata": {},
     "output_type": "execute_result"
    }
   ],
   "source": [
    "df_bible.tail()"
   ]
  },
  {
   "cell_type": "code",
   "execution_count": 10,
   "metadata": {},
   "outputs": [],
   "source": [
    "import seaborn as sns\n",
    "import matplotlib.pyplot as plt"
   ]
  },
  {
   "cell_type": "code",
   "execution_count": 11,
   "metadata": {
    "collapsed": true
   },
   "outputs": [],
   "source": [
    "%matplotlib inline"
   ]
  },
  {
   "cell_type": "code",
   "execution_count": 12,
   "metadata": {
    "collapsed": true
   },
   "outputs": [],
   "source": [
    "len_verse = df_bible['Text'].apply(lambda x:len(x))"
   ]
  },
  {
   "cell_type": "code",
   "execution_count": 13,
   "metadata": {},
   "outputs": [
    {
     "data": {
      "text/plain": [
       "0     54\n",
       "1    142\n",
       "2     54\n",
       "3     85\n",
       "4    115\n",
       "Name: Text, dtype: int64"
      ]
     },
     "execution_count": 13,
     "metadata": {},
     "output_type": "execute_result"
    }
   ],
   "source": [
    "len_verse.head()"
   ]
  },
  {
   "cell_type": "code",
   "execution_count": 14,
   "metadata": {},
   "outputs": [
    {
     "data": {
      "text/plain": [
       "<matplotlib.axes._subplots.AxesSubplot at 0x230363d5320>"
      ]
     },
     "execution_count": 14,
     "metadata": {},
     "output_type": "execute_result"
    },
    {
     "data": {
      "image/png": "[encoded data removed]",
      "text/plain": [
       "<matplotlib.figure.Figure at 0x23035b48dd8>"
      ]
     },
     "metadata": {},
     "output_type": "display_data"
    }
   ],
   "source": [
    "sns.distplot(len_verse, bins=100,kde=False)"
   ]
  },
  {
   "cell_type": "code",
   "execution_count": 15,
   "metadata": {},
   "outputs": [
    {
     "data": {
      "text/plain": [
       "0    In the beginning God created the heaven and th...\n",
       "1    And the earth was without form, and void; and ...\n",
       "2    And God said, Let there be light: and there wa...\n",
       "3    And God saw the light, that it was good: and G...\n",
       "4    And God called the light Day, and the darkness...\n",
       "Name: Text, dtype: object"
      ]
     },
     "execution_count": 15,
     "metadata": {},
     "output_type": "execute_result"
    }
   ],
   "source": [
    "df_bible['Text'].head()"
   ]
  },
  {
   "cell_type": "code",
   "execution_count": 16,
   "metadata": {},
   "outputs": [],
   "source": [
    "df_bible['Just letters'] = df_bible['Text'].apply(lambda string: ''.join(e for e in string if e.isalnum()))"
   ]
  },
  {
   "cell_type": "code",
   "execution_count": 17,
   "metadata": {},
   "outputs": [
    {
     "data": {
      "text/plain": [
       "'InthebeginningGodcreatedtheheavenandtheearth'"
      ]
     },
     "execution_count": 17,
     "metadata": {},
     "output_type": "execute_result"
    }
   ],
   "source": [
    "df_bible['Just letters'].loc[0]"
   ]
  },
  {
   "cell_type": "code",
   "execution_count": 18,
   "metadata": {
    "collapsed": true
   },
   "outputs": [],
   "source": [
    "df_bible['Len Letters'] = df_bible['Just letters'].apply(lambda x:len(x))"
   ]
  },
  {
   "cell_type": "code",
   "execution_count": 19,
   "metadata": {},
   "outputs": [
    {
     "data": {
      "text/plain": [
       "<matplotlib.axes._subplots.AxesSubplot at 0x23035bc39b0>"
      ]
     },
     "execution_count": 19,
     "metadata": {},
     "output_type": "execute_result"
    },
    {
     "data": {
      "image/png": "[encoded data removed]",
      "text/plain": [
       "<matplotlib.figure.Figure at 0x2303614ed30>"
      ]
     },
     "metadata": {},
     "output_type": "display_data"
    }
   ],
   "source": [
    "sns.distplot(df_bible['Len Letters'],kde=False, bins=100)"
   ]
  },
  {
   "cell_type": "code",
   "execution_count": 20,
   "metadata": {},
   "outputs": [
    {
     "data": {
      "text/plain": [
       "65    349\n",
       "66    345\n",
       "71    341\n",
       "64    335\n",
       "63    330\n",
       "Name: Len Letters, dtype: int64"
      ]
     },
     "execution_count": 20,
     "metadata": {},
     "output_type": "execute_result"
    }
   ],
   "source": [
    "df_bible['Len Letters'].value_counts().head()"
   ]
  },
  {
   "cell_type": "code",
   "execution_count": 21,
   "metadata": {},
   "outputs": [
    {
     "data": {
      "text/plain": [
       "103.59709986496046"
      ]
     },
     "execution_count": 21,
     "metadata": {},
     "output_type": "execute_result"
    }
   ],
   "source": [
    "df_bible['Len Letters'].mean()"
   ]
  },
  {
   "cell_type": "code",
   "execution_count": 22,
   "metadata": {},
   "outputs": [
    {
     "data": {
      "text/plain": [
       "And the LORD spake unto Moses, saying,                                                                                                                                                                                                     72\n",
       "One kid of the goats for a sin offering:                                                                                                                                                                                                   12\n",
       "One young bullock, one ram, one lamb of the first year, for a burnt offering:                                                                                                                                                              12\n",
       "And the word of the LORD came unto me, saying,                                                                                                                                                                                             12\n",
       "One golden spoon of ten shekels, full of incense:                                                                                                                                                                                          10\n",
       "Moreover the word of the LORD came unto me, saying,                                                                                                                                                                                         8\n",
       "And the LORD spake unto Moses and unto Aaron, saying,                                                                                                                                                                                       7\n",
       "His offering was one silver charger, the weight whereof was an hundred and thirty shekels, one silver bowl of seventy shekels, after the shekel of the sanctuary; both of them full of fine flour mingled with oil for a meat offering:     7\n",
       "The word of the LORD came again unto me, saying,                                                                                                                                                                                            6\n",
       "Again the word of the LORD came unto me, saying,                                                                                                                                                                                            6\n",
       "And their meat offering and their drink offerings for the bullocks, for the rams, and for the lambs, shall be according to their number, after the manner:                                                                                  5\n",
       "The grace of our Lord Jesus Christ be with you all. Amen.                                                                                                                                                                                   4\n",
       "Then Job answered and said,                                                                                                                                                                                                                 4\n",
       "Oh that men would praise the LORD for his goodness, and for his wonderful works to the children of men!                                                                                                                                     4\n",
       "He that hath an ear, let him hear what the Spirit saith unto the churches.                                                                                                                                                                  4\n",
       "Where their worm dieth not, and the fire is not quenched.                                                                                                                                                                                   3\n",
       "Then the word of the LORD came unto me, saying,                                                                                                                                                                                             3\n",
       "And one goat for a sin offering; beside the continual burnt offering, and his meat offering, and his drink offering.                                                                                                                        3\n",
       "But Job answered and said,                                                                                                                                                                                                                  3\n",
       "Then came the word of the LORD unto Jeremiah, saying,                                                                                                                                                                                       3\n",
       "Then answered Bildad the Shuhite, and said,                                                                                                                                                                                                 3\n",
       "The whole congregation together was forty and two thousand three hundred and threescore,                                                                                                                                                    2\n",
       "And blue, and purple, and scarlet, and fine linen, and goats' hair,                                                                                                                                                                         2\n",
       "How then wilt thou turn away the face of one captain of the least of my master's servants, and put thy trust on Egypt for chariots and for horsemen?                                                                                        2\n",
       "For every one that asketh receiveth; and he that seeketh findeth; and to him that knocketh it shall be opened.                                                                                                                              2\n",
       "The sons of Japheth; Gomer, and Magog, and Madai, and Javan, and Tubal, and Meshech, and Tiras.                                                                                                                                             2\n",
       "And when David heard of it, he sent Joab, and all the host of the mighty men.                                                                                                                                                               2\n",
       "If any man have ears to hear, let him hear.                                                                                                                                                                                                 2\n",
       "For I have kept the ways of the LORD, and have not wickedly departed from my God.                                                                                                                                                           2\n",
       "From thirty years old and upward even unto fifty years old, every one that entereth into the service, for the work in the tabernacle of the congregation,                                                                                   2\n",
       "                                                                                                                                                                                                                                           ..\n",
       "Javan, Tubal, and Meshech, they were thy merchants: they traded the persons of men and vessels of brass in thy market.                                                                                                                      1\n",
       "It is God that avengeth me, and subdueth the people under me.                                                                                                                                                                               1\n",
       "And I will bring you into the wilderness of the people, and there will I plead with you face to face.                                                                                                                                       1\n",
       "And God looked upon the earth, and, behold, it was corrupt; for all flesh had corrupted his way upon the earth.                                                                                                                             1\n",
       "When the Son of man shall come in his glory, and all the holy angels with him, then shall he sit upon the throne of his glory:                                                                                                              1\n",
       "And Mikloth begat Shimeam. And they also dwelt with their brethren at Jerusalem, over against their brethren.                                                                                                                               1\n",
       "The nations have heard of thy shame, and thy cry hath filled the land: for the mighty man hath stumbled against the mighty, and they are fallen both together.                                                                              1\n",
       "There is no end of all the people, even of all that have been before them: they also that come after shall not rejoice in him. Surely this also is vanity and vexation of spirit.                                                           1\n",
       "And if it be not redeemed within the space of a full year, then the house that is in the walled city shall be established for ever to him that bought it throughout his generations: it shall not go out in the jubilee.                    1\n",
       "That the king said unto Nathan the prophet, See now, I dwell in an house of cedar, but the ark of God dwelleth within curtains.                                                                                                             1\n",
       "And he said, Thou canst not see my face: for there shall no man see me, and live.                                                                                                                                                           1\n",
       "Now the God of patience and consolation grant you to be likeminded one toward another according to Christ Jesus:                                                                                                                            1\n",
       "And he that keepeth his commandments dwelleth in him, and he in him. And hereby we know that he abideth in us, by the Spirit which he hath given us.                                                                                        1\n",
       "But he turned, and rebuked them, and said, Ye know not what manner of spirit ye are of.                                                                                                                                                     1\n",
       "And he said, Blessed be the LORD God of Shem; and Canaan shall be his servant.                                                                                                                                                              1\n",
       "And the rain descended, and the floods came, and the winds blew, and beat upon that house; and it fell: and great was the fall of it.                                                                                                       1\n",
       "Then I commended mirth, because a man hath no better thing under the sun, than to eat, and to drink, and to be merry: for that shall abide with him of his labour the days of his life, which God giveth him under the sun.                 1\n",
       "For it hath pleased them of Macedonia and Achaia to make a certain contribution for the poor saints which are at Jerusalem.                                                                                                                 1\n",
       "And the coast shall be for the remnant of the house of Judah; they shall feed thereupon: in the houses of Ashkelon shall they lie down in the evening: for the LORD their God shall visit them, and turn away their captivity.              1\n",
       "The third, Absalom the son of Maachah the daughter of Talmai king of Geshur: the fourth, Adonijah the son of Haggith:                                                                                                                       1\n",
       "Yea, whereto might the strength of their hands profit me, in whom old age was perished?                                                                                                                                                     1\n",
       "So likewise ye, when ye shall have done all those things which are commanded you, say, We are unprofitable servants: we have done that which was our duty to do.                                                                            1\n",
       "Laying up in store for themselves a good foundation against the time to come, that they may lay hold on eternal life.                                                                                                                       1\n",
       "This is the law of the beasts, and of the fowl, and of every living creature that moveth in the waters, and of every creature that creepeth upon the earth:                                                                                 1\n",
       "Even of the covenant which he made with Abraham, and of his oath unto Isaac;                                                                                                                                                                1\n",
       "And there came of all people to hear the wisdom of Solomon, from all kings of the earth, which had heard of his wisdom.                                                                                                                     1\n",
       "And of Zebulun he said, Rejoice, Zebulun, in thy going out; and, Issachar, in thy tents.                                                                                                                                                    1\n",
       "I have said to corruption, Thou art my father: to the worm, Thou art my mother, and my sister.                                                                                                                                              1\n",
       "I remembered thy judgments of old, O LORD; and have comforted myself.                                                                                                                                                                       1\n",
       "That the residue of men might seek after the Lord, and all the Gentiles, upon whom my name is called, saith the Lord, who doeth all these things.                                                                                           1\n",
       "Name: Text, Length: 30833, dtype: int64"
      ]
     },
     "execution_count": 22,
     "metadata": {},
     "output_type": "execute_result"
    }
   ],
   "source": [
    "df_bible['Text'].value_counts()"
   ]
  },
  {
   "cell_type": "code",
   "execution_count": 23,
   "metadata": {
    "collapsed": true
   },
   "outputs": [],
   "source": [
    "df_bible['Len Words'] = df_bible['Text'].apply(lambda x:len(x.split()))"
   ]
  },
  {
   "cell_type": "code",
   "execution_count": 24,
   "metadata": {},
   "outputs": [
    {
     "data": {
      "text/html": [
       "<div>\n",
       "<style>\n",
       "    .dataframe thead tr:only-child th {\n",
       "        text-align: right;\n",
       "    }\n",
       "\n",
       "    .dataframe thead th {\n",
       "        text-align: left;\n",
       "    }\n",
       "\n",
       "    .dataframe tbody tr th {\n",
       "        vertical-align: top;\n",
       "    }\n",
       "</style>\n",
       "<table border=\"1\" class=\"dataframe\">\n",
       "  <thead>\n",
       "    <tr style=\"text-align: right;\">\n",
       "      <th></th>\n",
       "      <th>Text</th>\n",
       "      <th>Len Words</th>\n",
       "    </tr>\n",
       "  </thead>\n",
       "  <tbody>\n",
       "    <tr>\n",
       "      <th>0</th>\n",
       "      <td>In the beginning God created the heaven and th...</td>\n",
       "      <td>10</td>\n",
       "    </tr>\n",
       "    <tr>\n",
       "      <th>1</th>\n",
       "      <td>And the earth was without form, and void; and ...</td>\n",
       "      <td>29</td>\n",
       "    </tr>\n",
       "    <tr>\n",
       "      <th>2</th>\n",
       "      <td>And God said, Let there be light: and there wa...</td>\n",
       "      <td>11</td>\n",
       "    </tr>\n",
       "    <tr>\n",
       "      <th>3</th>\n",
       "      <td>And God saw the light, that it was good: and G...</td>\n",
       "      <td>17</td>\n",
       "    </tr>\n",
       "    <tr>\n",
       "      <th>4</th>\n",
       "      <td>And God called the light Day, and the darkness...</td>\n",
       "      <td>22</td>\n",
       "    </tr>\n",
       "  </tbody>\n",
       "</table>\n",
       "</div>"
      ],
      "text/plain": [
       "                                                Text  Len Words\n",
       "0  In the beginning God created the heaven and th...         10\n",
       "1  And the earth was without form, and void; and ...         29\n",
       "2  And God said, Let there be light: and there wa...         11\n",
       "3  And God saw the light, that it was good: and G...         17\n",
       "4  And God called the light Day, and the darkness...         22"
      ]
     },
     "execution_count": 24,
     "metadata": {},
     "output_type": "execute_result"
    }
   ],
   "source": [
    "df_bible[['Text','Len Words']].head()"
   ]
  },
  {
   "cell_type": "code",
   "execution_count": 25,
   "metadata": {},
   "outputs": [
    {
     "data": {
      "text/plain": [
       "'In the beginning God created the heaven and the earth.'"
      ]
     },
     "execution_count": 25,
     "metadata": {},
     "output_type": "execute_result"
    }
   ],
   "source": [
    "df_bible['Text'].loc[0]"
   ]
  },
  {
   "cell_type": "code",
   "execution_count": 26,
   "metadata": {
    "collapsed": true
   },
   "outputs": [],
   "source": [
    "with open (\"bible.txt\", \"r\") as myfile:\n",
    "    bible = myfile.readlines()"
   ]
  },
  {
   "cell_type": "code",
   "execution_count": 27,
   "metadata": {
    "collapsed": true
   },
   "outputs": [],
   "source": [
    "bible = list(map(lambda x: str(x).split('\\t'), bible))"
   ]
  },
  {
   "cell_type": "code",
   "execution_count": 28,
   "metadata": {
    "collapsed": true
   },
   "outputs": [],
   "source": [
    "bible = pd.DataFrame(list(bible))"
   ]
  },
  {
   "cell_type": "code",
   "execution_count": 29,
   "metadata": {
    "collapsed": true
   },
   "outputs": [],
   "source": [
    "bible.columns = ['Verse', 'Text']"
   ]
  },
  {
   "cell_type": "code",
   "execution_count": 30,
   "metadata": {
    "collapsed": true
   },
   "outputs": [],
   "source": [
    "str_whole_bible = ''\n",
    "for i in bible['Text']:\n",
    "    str_whole_bible += i"
   ]
  },
  {
   "cell_type": "code",
   "execution_count": 31,
   "metadata": {},
   "outputs": [],
   "source": [
    "str_whole_bible = str_whole_bible.replace('\\n', ' ')"
   ]
  },
  {
   "cell_type": "code",
   "execution_count": 32,
   "metadata": {},
   "outputs": [
    {
     "data": {
      "text/plain": [
       "4137428"
      ]
     },
     "execution_count": 32,
     "metadata": {},
     "output_type": "execute_result"
    }
   ],
   "source": [
    "len(str_whole_bible)"
   ]
  },
  {
   "cell_type": "code",
   "execution_count": 33,
   "metadata": {},
   "outputs": [],
   "source": [
    "import re\n",
    "whole_bible = re.sub(r'([^\\s\\w]|_)+', '', str_whole_bible)"
   ]
  },
  {
   "cell_type": "code",
   "execution_count": 34,
   "metadata": {
    "collapsed": true
   },
   "outputs": [],
   "source": [
    "whole_bible = pd.DataFrame(whole_bible.split())"
   ]
  },
  {
   "cell_type": "code",
   "execution_count": 35,
   "metadata": {},
   "outputs": [],
   "source": [
    "whole_bible[1] = whole_bible[0].apply(lambda x: x.lower())"
   ]
  },
  {
   "cell_type": "code",
   "execution_count": 37,
   "metadata": {},
   "outputs": [
    {
     "data": {
      "text/plain": [
       "789627"
      ]
     },
     "execution_count": 37,
     "metadata": {},
     "output_type": "execute_result"
    }
   ],
   "source": [
    "len(whole_bible[1])"
   ]
  },
  {
   "cell_type": "code",
   "execution_count": 38,
   "metadata": {},
   "outputs": [
    {
     "data": {
      "text/plain": [
       "<seaborn.axisgrid.PairGrid at 0x2303a3287f0>"
      ]
     },
     "execution_count": 38,
     "metadata": {},
     "output_type": "execute_result"
    },
    {
     "data": {
      "image/png": "[encoded data removed]",
      "text/plain": [
       "<matplotlib.figure.Figure at 0x2303a3284e0>"
      ]
     },
     "metadata": {},
     "output_type": "display_data"
    }
   ],
   "source": [
    "sns.pairplot(df_bible)"
   ]
  },
  {
   "cell_type": "code",
   "execution_count": 39,
   "metadata": {
    "collapsed": true
   },
   "outputs": [],
   "source": [
    "import string"
   ]
  },
  {
   "cell_type": "code",
   "execution_count": 40,
   "metadata": {
    "collapsed": true
   },
   "outputs": [],
   "source": [
    "import nltk"
   ]
  },
  {
   "cell_type": "code",
   "execution_count": 48,
   "metadata": {},
   "outputs": [
    {
     "data": {
      "text/plain": [
       "False    8708\n",
       "True     4019\n",
       "Name: 1, dtype: int64"
      ]
     },
     "execution_count": 48,
     "metadata": {},
     "output_type": "execute_result"
    }
   ],
   "source": [
    "one_time = whole_bible[1].value_counts() == 1\n",
    "one_time.value_counts()"
   ]
  },
  {
   "cell_type": "code",
   "execution_count": null,
   "metadata": {
    "collapsed": true
   },
   "outputs": [],
   "source": []
  }
 ],
 "metadata": {
  "kernelspec": {
   "display_name": "Python 3",
   "language": "python",
   "name": "python3"
  },
  "language_info": {
   "codemirror_mode": {
    "name": "ipython",
    "version": 3
   },
   "file_extension": ".py",
   "mimetype": "text/x-python",
   "name": "python",
   "nbconvert_exporter": "python",
   "pygments_lexer": "ipython3",
   "version": "3.6.2"
  }
 },
 "nbformat": 4,
 "nbformat_minor": 2
}
