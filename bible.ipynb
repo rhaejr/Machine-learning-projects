{
 "cells": [
  {
   "cell_type": "code",
   "execution_count": 1,
   "metadata": {
    "collapsed": true
   },
   "outputs": [],
   "source": [
    "with open (\"bible.txt\", \"r\") as myfile:\n",
    "    bible = myfile.readlines()"
   ]
  },
  {
   "cell_type": "code",
   "execution_count": 2,
   "metadata": {},
   "outputs": [
    {
     "data": {
      "text/plain": [
       "'Genesis 1:1\\tIn the beginning God created the heaven and the earth.\\n'"
      ]
     },
     "execution_count": 2,
     "metadata": {},
     "output_type": "execute_result"
    }
   ],
   "source": [
    "bible[0]"
   ]
  },
  {
   "cell_type": "code",
   "execution_count": 3,
   "metadata": {},
   "outputs": [
    {
     "data": {
      "text/plain": [
       "list"
      ]
     },
     "execution_count": 3,
     "metadata": {},
     "output_type": "execute_result"
    }
   ],
   "source": [
    "type(bible)"
   ]
  },
  {
   "cell_type": "code",
   "execution_count": 4,
   "metadata": {
    "collapsed": true
   },
   "outputs": [],
   "source": [
    "import pandas as pd"
   ]
  },
  {
   "cell_type": "code",
   "execution_count": 5,
   "metadata": {
    "collapsed": true
   },
   "outputs": [],
   "source": [
    "bible = list(map(lambda x: str(x).split('\\t'), bible))"
   ]
  },
  {
   "cell_type": "code",
   "execution_count": 6,
   "metadata": {
    "collapsed": true
   },
   "outputs": [],
   "source": [
    "df_bible = pd.DataFrame(list(bible))"
   ]
  },
  {
   "cell_type": "code",
   "execution_count": 7,
   "metadata": {
    "collapsed": true
   },
   "outputs": [],
   "source": [
    "df_bible.columns = ['Verse', 'Text']"
   ]
  },
  {
   "cell_type": "code",
   "execution_count": 8,
   "metadata": {
    "collapsed": true
   },
   "outputs": [],
   "source": [
    "df_bible['Text'] = df_bible['Text'].apply(lambda x: x.rstrip('\\n'))"
   ]
  },
  {
   "cell_type": "code",
   "execution_count": 9,
   "metadata": {},
   "outputs": [
    {
     "data": {
      "text/html": [
       "<div>\n",
       "<style>\n",
       "    .dataframe thead tr:only-child th {\n",
       "        text-align: right;\n",
       "    }\n",
       "\n",
       "    .dataframe thead th {\n",
       "        text-align: left;\n",
       "    }\n",
       "\n",
       "    .dataframe tbody tr th {\n",
       "        vertical-align: top;\n",
       "    }\n",
       "</style>\n",
       "<table border=\"1\" class=\"dataframe\">\n",
       "  <thead>\n",
       "    <tr style=\"text-align: right;\">\n",
       "      <th></th>\n",
       "      <th>Verse</th>\n",
       "      <th>Text</th>\n",
       "    </tr>\n",
       "  </thead>\n",
       "  <tbody>\n",
       "    <tr>\n",
       "      <th>31097</th>\n",
       "      <td>Revelation 22:17</td>\n",
       "      <td>And the Spirit and the bride say, Come. And le...</td>\n",
       "    </tr>\n",
       "    <tr>\n",
       "      <th>31098</th>\n",
       "      <td>Revelation 22:18</td>\n",
       "      <td>For I testify unto every man that heareth the ...</td>\n",
       "    </tr>\n",
       "    <tr>\n",
       "      <th>31099</th>\n",
       "      <td>Revelation 22:19</td>\n",
       "      <td>And if any man shall take away from the words ...</td>\n",
       "    </tr>\n",
       "    <tr>\n",
       "      <th>31100</th>\n",
       "      <td>Revelation 22:20</td>\n",
       "      <td>He which testifieth these things saith, Surely...</td>\n",
       "    </tr>\n",
       "    <tr>\n",
       "      <th>31101</th>\n",
       "      <td>Revelation 22:21</td>\n",
       "      <td>The grace of our Lord Jesus Christ be with you...</td>\n",
       "    </tr>\n",
       "  </tbody>\n",
       "</table>\n",
       "</div>"
      ],
      "text/plain": [
       "                  Verse                                               Text\n",
       "31097  Revelation 22:17  And the Spirit and the bride say, Come. And le...\n",
       "31098  Revelation 22:18  For I testify unto every man that heareth the ...\n",
       "31099  Revelation 22:19  And if any man shall take away from the words ...\n",
       "31100  Revelation 22:20  He which testifieth these things saith, Surely...\n",
       "31101  Revelation 22:21  The grace of our Lord Jesus Christ be with you..."
      ]
     },
     "execution_count": 9,
     "metadata": {},
     "output_type": "execute_result"
    }
   ],
   "source": [
    "df_bible.tail()"
   ]
  },
  {
   "cell_type": "code",
   "execution_count": 10,
   "metadata": {
    "collapsed": true
   },
   "outputs": [],
   "source": [
    "import seaborn as sns\n",
    "import matplotlib.pyplot as plt"
   ]
  },
  {
   "cell_type": "code",
   "execution_count": 11,
   "metadata": {
    "collapsed": true
   },
   "outputs": [],
   "source": [
    "%matplotlib inline"
   ]
  },
  {
   "cell_type": "code",
   "execution_count": 12,
   "metadata": {
    "collapsed": true
   },
   "outputs": [],
   "source": [
    "len_verse = df_bible['Text'].apply(lambda x:len(x))"
   ]
  },
  {
   "cell_type": "code",
   "execution_count": 13,
   "metadata": {},
   "outputs": [
    {
     "data": {
      "text/plain": [
       "0     54\n",
       "1    142\n",
       "2     54\n",
       "3     85\n",
       "4    115\n",
       "Name: Text, dtype: int64"
      ]
     },
     "execution_count": 13,
     "metadata": {},
     "output_type": "execute_result"
    }
   ],
   "source": [
    "len_verse.head()"
   ]
  },
  {
   "cell_type": "code",
   "execution_count": 14,
   "metadata": {},
   "outputs": [
    {
     "data": {
      "text/plain": [
       "<matplotlib.axes._subplots.AxesSubplot at 0x269b8ea0668>"
      ]
     },
     "execution_count": 14,
     "metadata": {},
     "output_type": "execute_result"
    },
    {
     "data": {
      "image/png": "[encoded data removed]",
      "text/plain": [
       "<matplotlib.figure.Figure at 0x269b8e73e10>"
      ]
     },
     "metadata": {},
     "output_type": "display_data"
    }
   ],
   "source": [
    "sns.distplot(len_verse, bins=100,kde=False)"
   ]
  },
  {
   "cell_type": "code",
   "execution_count": 15,
   "metadata": {},
   "outputs": [
    {
     "data": {
      "text/plain": [
       "0    In the beginning God created the heaven and th...\n",
       "1    And the earth was without form, and void; and ...\n",
       "2    And God said, Let there be light: and there wa...\n",
       "3    And God saw the light, that it was good: and G...\n",
       "4    And God called the light Day, and the darkness...\n",
       "Name: Text, dtype: object"
      ]
     },
     "execution_count": 15,
     "metadata": {},
     "output_type": "execute_result"
    }
   ],
   "source": [
    "df_bible['Text'].head()"
   ]
  },
  {
   "cell_type": "code",
   "execution_count": 16,
   "metadata": {
    "collapsed": true
   },
   "outputs": [],
   "source": [
    "df_bible['Just letters'] = df_bible['Text'].apply(lambda string: ''.join(e for e in string if e.isalnum()))"
   ]
  },
  {
   "cell_type": "code",
   "execution_count": 17,
   "metadata": {},
   "outputs": [
    {
     "data": {
      "text/plain": [
       "'InthebeginningGodcreatedtheheavenandtheearth'"
      ]
     },
     "execution_count": 17,
     "metadata": {},
     "output_type": "execute_result"
    }
   ],
   "source": [
    "df_bible['Just letters'].loc[0]"
   ]
  },
  {
   "cell_type": "code",
   "execution_count": 18,
   "metadata": {
    "collapsed": true
   },
   "outputs": [],
   "source": [
    "df_bible['Len Letters'] = df_bible['Just letters'].apply(lambda x:len(x))"
   ]
  },
  {
   "cell_type": "code",
   "execution_count": 19,
   "metadata": {},
   "outputs": [
    {
     "data": {
      "text/plain": [
       "<matplotlib.axes._subplots.AxesSubplot at 0x269baf7acf8>"
      ]
     },
     "execution_count": 19,
     "metadata": {},
     "output_type": "execute_result"
    },
    {
     "data": {
      "image/png": "[encoded data removed]",
      "text/plain": [
       "<matplotlib.figure.Figure at 0x269b8e73ba8>"
      ]
     },
     "metadata": {},
     "output_type": "display_data"
    }
   ],
   "source": [
    "sns.distplot(df_bible['Len Letters'],kde=False, bins=100)"
   ]
  },
  {
   "cell_type": "code",
   "execution_count": 20,
   "metadata": {},
   "outputs": [
    {
     "data": {
      "text/plain": [
       "65    349\n",
       "66    345\n",
       "71    341\n",
       "64    335\n",
       "63    330\n",
       "Name: Len Letters, dtype: int64"
      ]
     },
     "execution_count": 20,
     "metadata": {},
     "output_type": "execute_result"
    }
   ],
   "source": [
    "df_bible['Len Letters'].value_counts().head()"
   ]
  },
  {
   "cell_type": "code",
   "execution_count": 21,
   "metadata": {},
   "outputs": [
    {
     "data": {
      "text/plain": [
       "103.59709986496046"
      ]
     },
     "execution_count": 21,
     "metadata": {},
     "output_type": "execute_result"
    }
   ],
   "source": [
    "df_bible['Len Letters'].mean()"
   ]
  },
  {
   "cell_type": "code",
   "execution_count": 22,
   "metadata": {},
   "outputs": [
    {
     "data": {
      "text/plain": [
       "And the LORD spake unto Moses, saying,                                                                                                                                                                                                               72\n",
       "One kid of the goats for a sin offering:                                                                                                                                                                                                             12\n",
       "One young bullock, one ram, one lamb of the first year, for a burnt offering:                                                                                                                                                                        12\n",
       "And the word of the LORD came unto me, saying,                                                                                                                                                                                                       12\n",
       "One golden spoon of ten shekels, full of incense:                                                                                                                                                                                                    10\n",
       "Moreover the word of the LORD came unto me, saying,                                                                                                                                                                                                   8\n",
       "His offering was one silver charger, the weight whereof was an hundred and thirty shekels, one silver bowl of seventy shekels, after the shekel of the sanctuary; both of them full of fine flour mingled with oil for a meat offering:               7\n",
       "And the LORD spake unto Moses and unto Aaron, saying,                                                                                                                                                                                                 7\n",
       "Again the word of the LORD came unto me, saying,                                                                                                                                                                                                      6\n",
       "The word of the LORD came again unto me, saying,                                                                                                                                                                                                      6\n",
       "And their meat offering and their drink offerings for the bullocks, for the rams, and for the lambs, shall be according to their number, after the manner:                                                                                            5\n",
       "Then Job answered and said,                                                                                                                                                                                                                           4\n",
       "Oh that men would praise the LORD for his goodness, and for his wonderful works to the children of men!                                                                                                                                               4\n",
       "The grace of our Lord Jesus Christ be with you all. Amen.                                                                                                                                                                                             4\n",
       "He that hath an ear, let him hear what the Spirit saith unto the churches.                                                                                                                                                                            4\n",
       "Then the word of the LORD came unto me, saying,                                                                                                                                                                                                       3\n",
       "And one goat for a sin offering; beside the continual burnt offering, and his meat offering, and his drink offering.                                                                                                                                  3\n",
       "Then answered Bildad the Shuhite, and said,                                                                                                                                                                                                           3\n",
       "Then came the word of the LORD unto Jeremiah, saying,                                                                                                                                                                                                 3\n",
       "Where their worm dieth not, and the fire is not quenched.                                                                                                                                                                                             3\n",
       "But Job answered and said,                                                                                                                                                                                                                            3\n",
       "And the word of the LORD came unto him, saying,                                                                                                                                                                                                       2\n",
       "Moreover the word of the LORD came to me, saying,                                                                                                                                                                                                     2\n",
       "The children of Shephatiah, three hundred seventy and two.                                                                                                                                                                                            2\n",
       "It stood upon twelve oxen, three looking toward the north, and three looking toward the west, and three looking toward the south, and three looking toward the east: and the sea was set above upon them, and all their hinder parts were inward.     2\n",
       "The children of Ater of Hezekiah, ninety and eight.                                                                                                                                                                                                   2\n",
       "The priests: the children of Jedaiah, of the house of Jeshua, nine hundred seventy and three.                                                                                                                                                         2\n",
       "But I know thy abode, and thy going out, and thy coming in, and thy rage against me.                                                                                                                                                                  2\n",
       "And he built altars for all the host of heaven in the two courts of the house of the LORD.                                                                                                                                                            2\n",
       "By the way that he came, by the same shall he return, and shall not come into this city, saith the LORD.                                                                                                                                              2\n",
       "                                                                                                                                                                                                                                                     ..\n",
       "And the three brake through the host of the Philistines, and drew water out of the well of Bethlehem, that was by the gate, and took it, and brought it to David: but David would not drink of it, but poured it out to the LORD.                     1\n",
       "The LORD taketh my part with them that help me: therefore shall I see my desire upon them that hate me.                                                                                                                                               1\n",
       "Thou hast caused men to ride over our heads; we went through fire and through water: but thou broughtest us out into a wealthy place.                                                                                                                 1\n",
       "Fill their faces with shame; that they may seek thy name, O LORD.                                                                                                                                                                                     1\n",
       "And they answered, that they could not tell whence it was.                                                                                                                                                                                            1\n",
       "And the king of Assyria hearkened unto him: for the king of Assyria went up against Damascus, and took it, and carried the people of it captive to Kir, and slew Rezin.                                                                               1\n",
       "And when they shall blow with them, all the assembly shall assemble themselves to thee at the door of the tabernacle of the congregation.                                                                                                             1\n",
       "Nevertheless mine eye spared them from destroying them, neither did I make an end of them in the wilderness.                                                                                                                                          1\n",
       "For Joshua drew not his hand back, wherewith he stretched out the spear, until he had utterly destroyed all the inhabitants of Ai.                                                                                                                    1\n",
       "Even every one that is called by my name: for I have created him for my glory, I have formed him; yea, I have made him.                                                                                                                               1\n",
       "The king of Babylon hath heard the report of them, and his hands waxed feeble: anguish took hold of him, and pangs as of a woman in travail.                                                                                                          1\n",
       "And if there remain but few years unto the year of jubilee, then he shall count with him, and according unto his years shall he give him again the price of his redemption.                                                                           1\n",
       "And it was told Saul that David was come to Keilah. And Saul said, God hath delivered him into mine hand; for he is shut in, by entering into a town that hath gates and bars.                                                                        1\n",
       "She is more precious than rubies: and all the things thou canst desire are not to be compared unto her.                                                                                                                                               1\n",
       "Thou didst divide the sea by thy strength: thou brakest the heads of the dragons in the waters.                                                                                                                                                       1\n",
       "And it came to pass, when Joshua and the children of Israel had made an end of slaying them with a very great slaughter, till they were consumed, that the rest which remained of them entered into fenced cities.                                    1\n",
       "TEKEL; Thou art weighed in the balances, and art found wanting.                                                                                                                                                                                       1\n",
       "We are thine: thou never barest rule over them; they were not called by thy name.                                                                                                                                                                     1\n",
       "The light of the body is the eye: therefore when thine eye is single, thy whole body also is full of light; but when thine eye is evil, thy body also is full of darkness.                                                                            1\n",
       "And it shall come to pass, when I bring a cloud over the earth, that the bow shall be seen in the cloud:                                                                                                                                              1\n",
       "Of the sons of Pahathmoab; Elihoenai the son of Zerahiah, and with him two hundred males.                                                                                                                                                             1\n",
       "And one Ananias, a devout man according to the law, having a good report of all the Jews which dwelt there,                                                                                                                                           1\n",
       "Wherefore I gave them also statutes that were not good, and judgments whereby they should not live;                                                                                                                                                   1\n",
       "Thou shalt ascend and come like a storm, thou shalt be like a cloud to cover the land, thou, and all thy bands, and many people with thee.                                                                                                            1\n",
       "For we must all appear before the judgment seat of Christ; that every one may receive the things done in his body, according to that he hath done, whether it be good or bad.                                                                         1\n",
       "And Arphaxad begat Shelah, and Shelah begat Eber.                                                                                                                                                                                                     1\n",
       "And this is the confidence that we have in him, that, if we ask any thing according to his will, he heareth us:                                                                                                                                       1\n",
       "Then was the part of the hand sent from him; and this writing was written.                                                                                                                                                                            1\n",
       "And they shall deal with thee hatefully, and shall take away all thy labour, and shall leave thee naked and bare: and the nakedness of thy whoredoms shall be discovered, both thy lewdness and thy whoredoms.                                        1\n",
       "And the men took of their victuals, and asked not counsel at the mouth of the LORD.                                                                                                                                                                   1\n",
       "Name: Text, Length: 30833, dtype: int64"
      ]
     },
     "execution_count": 22,
     "metadata": {},
     "output_type": "execute_result"
    }
   ],
   "source": [
    "df_bible['Text'].value_counts()"
   ]
  },
  {
   "cell_type": "code",
   "execution_count": 23,
   "metadata": {
    "collapsed": true
   },
   "outputs": [],
   "source": [
    "df_bible['Len Words'] = df_bible['Text'].apply(lambda x:len(x.split()))"
   ]
  },
  {
   "cell_type": "code",
   "execution_count": 24,
   "metadata": {},
   "outputs": [
    {
     "data": {
      "text/html": [
       "<div>\n",
       "<style>\n",
       "    .dataframe thead tr:only-child th {\n",
       "        text-align: right;\n",
       "    }\n",
       "\n",
       "    .dataframe thead th {\n",
       "        text-align: left;\n",
       "    }\n",
       "\n",
       "    .dataframe tbody tr th {\n",
       "        vertical-align: top;\n",
       "    }\n",
       "</style>\n",
       "<table border=\"1\" class=\"dataframe\">\n",
       "  <thead>\n",
       "    <tr style=\"text-align: right;\">\n",
       "      <th></th>\n",
       "      <th>Text</th>\n",
       "      <th>Len Words</th>\n",
       "    </tr>\n",
       "  </thead>\n",
       "  <tbody>\n",
       "    <tr>\n",
       "      <th>0</th>\n",
       "      <td>In the beginning God created the heaven and th...</td>\n",
       "      <td>10</td>\n",
       "    </tr>\n",
       "    <tr>\n",
       "      <th>1</th>\n",
       "      <td>And the earth was without form, and void; and ...</td>\n",
       "      <td>29</td>\n",
       "    </tr>\n",
       "    <tr>\n",
       "      <th>2</th>\n",
       "      <td>And God said, Let there be light: and there wa...</td>\n",
       "      <td>11</td>\n",
       "    </tr>\n",
       "    <tr>\n",
       "      <th>3</th>\n",
       "      <td>And God saw the light, that it was good: and G...</td>\n",
       "      <td>17</td>\n",
       "    </tr>\n",
       "    <tr>\n",
       "      <th>4</th>\n",
       "      <td>And God called the light Day, and the darkness...</td>\n",
       "      <td>22</td>\n",
       "    </tr>\n",
       "  </tbody>\n",
       "</table>\n",
       "</div>"
      ],
      "text/plain": [
       "                                                Text  Len Words\n",
       "0  In the beginning God created the heaven and th...         10\n",
       "1  And the earth was without form, and void; and ...         29\n",
       "2  And God said, Let there be light: and there wa...         11\n",
       "3  And God saw the light, that it was good: and G...         17\n",
       "4  And God called the light Day, and the darkness...         22"
      ]
     },
     "execution_count": 24,
     "metadata": {},
     "output_type": "execute_result"
    }
   ],
   "source": [
    "df_bible[['Text','Len Words']].head()"
   ]
  },
  {
   "cell_type": "code",
   "execution_count": 25,
   "metadata": {},
   "outputs": [
    {
     "data": {
      "text/plain": [
       "'In the beginning God created the heaven and the earth.'"
      ]
     },
     "execution_count": 25,
     "metadata": {},
     "output_type": "execute_result"
    }
   ],
   "source": [
    "df_bible['Text'].loc[0]"
   ]
  },
  {
   "cell_type": "code",
   "execution_count": 26,
   "metadata": {
    "collapsed": true
   },
   "outputs": [],
   "source": [
    "with open (\"bible.txt\", \"r\") as myfile:\n",
    "    bible = myfile.readlines()"
   ]
  },
  {
   "cell_type": "code",
   "execution_count": 27,
   "metadata": {
    "collapsed": true
   },
   "outputs": [],
   "source": [
    "bible = list(map(lambda x: str(x).split('\\t'), bible))"
   ]
  },
  {
   "cell_type": "code",
   "execution_count": 28,
   "metadata": {
    "collapsed": true
   },
   "outputs": [],
   "source": [
    "bible = pd.DataFrame(list(bible))"
   ]
  },
  {
   "cell_type": "code",
   "execution_count": 29,
   "metadata": {
    "collapsed": true
   },
   "outputs": [],
   "source": [
    "bible.columns = ['Verse', 'Text']"
   ]
  },
  {
   "cell_type": "code",
   "execution_count": 30,
   "metadata": {
    "collapsed": true
   },
   "outputs": [],
   "source": [
    "str_whole_bible = ''\n",
    "for i in bible['Text']:\n",
    "    str_whole_bible += i"
   ]
  },
  {
   "cell_type": "code",
   "execution_count": 31,
   "metadata": {
    "collapsed": true
   },
   "outputs": [],
   "source": [
    "str_whole_bible = str_whole_bible.replace('\\n', ' ')"
   ]
  },
  {
   "cell_type": "code",
   "execution_count": 32,
   "metadata": {},
   "outputs": [
    {
     "data": {
      "text/plain": [
       "4137428"
      ]
     },
     "execution_count": 32,
     "metadata": {},
     "output_type": "execute_result"
    }
   ],
   "source": [
    "len(str_whole_bible)"
   ]
  },
  {
   "cell_type": "code",
   "execution_count": 33,
   "metadata": {
    "collapsed": true
   },
   "outputs": [],
   "source": [
    "import re\n",
    "whole_bible = re.sub(r'([^\\s\\w]|_)+', '', str_whole_bible)"
   ]
  },
  {
   "cell_type": "code",
   "execution_count": 34,
   "metadata": {
    "collapsed": true
   },
   "outputs": [],
   "source": [
    "whole_bible = pd.DataFrame(whole_bible.split())"
   ]
  },
  {
   "cell_type": "code",
   "execution_count": 35,
   "metadata": {
    "collapsed": true
   },
   "outputs": [],
   "source": [
    "whole_bible[1] = whole_bible[0].apply(lambda x: x.lower())"
   ]
  },
  {
   "cell_type": "code",
   "execution_count": 36,
   "metadata": {},
   "outputs": [
    {
     "data": {
      "text/plain": [
       "789627"
      ]
     },
     "execution_count": 36,
     "metadata": {},
     "output_type": "execute_result"
    }
   ],
   "source": [
    "len(whole_bible[1])"
   ]
  },
  {
   "cell_type": "code",
   "execution_count": 39,
   "metadata": {
    "collapsed": true
   },
   "outputs": [],
   "source": [
    "import string"
   ]
  },
  {
   "cell_type": "code",
   "execution_count": 40,
   "metadata": {
    "collapsed": true
   },
   "outputs": [],
   "source": [
    "import nltk"
   ]
  },
  {
   "cell_type": "code",
   "execution_count": 48,
   "metadata": {},
   "outputs": [
    {
     "data": {
      "text/plain": [
       "False    8708\n",
       "True     4019\n",
       "Name: 1, dtype: int64"
      ]
     },
     "execution_count": 48,
     "metadata": {},
     "output_type": "execute_result"
    }
   ],
   "source": [
    "one_time = whole_bible[1].value_counts() == 1\n",
    "one_time.value_counts()"
   ]
  },
  {
   "cell_type": "code",
   "execution_count": null,
   "metadata": {
    "collapsed": true
   },
   "outputs": [],
   "source": []
  }
 ],
 "metadata": {
  "kernelspec": {
   "display_name": "Python [default]",
   "language": "python",
   "name": "python3"
  },
  "language_info": {
   "codemirror_mode": {
    "name": "ipython",
    "version": 3
   },
   "file_extension": ".py",
   "mimetype": "text/x-python",
   "name": "python",
   "nbconvert_exporter": "python",
   "pygments_lexer": "ipython3",
   "version": "3.5.3"
  }
 },
 "nbformat": 4,
 "nbformat_minor": 2
}
