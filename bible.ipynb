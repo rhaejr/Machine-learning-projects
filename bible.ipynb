{
 "cells": [
  {
   "cell_type": "code",
   "execution_count": 1,
   "metadata": {
    "collapsed": true
   },
   "outputs": [],
   "source": [
    "with open (\"bible.txt\", \"r\") as myfile:\n",
    "    bible = myfile.readlines()"
   ]
  },
  {
   "cell_type": "code",
   "execution_count": 2,
   "metadata": {},
   "outputs": [
    {
     "data": {
      "text/plain": [
       "'Genesis 1:1\\tIn the beginning God created the heaven and the earth.\\n'"
      ]
     },
     "execution_count": 2,
     "metadata": {},
     "output_type": "execute_result"
    }
   ],
   "source": [
    "bible[0]"
   ]
  },
  {
   "cell_type": "code",
   "execution_count": 3,
   "metadata": {},
   "outputs": [
    {
     "data": {
      "text/plain": [
       "list"
      ]
     },
     "execution_count": 3,
     "metadata": {},
     "output_type": "execute_result"
    }
   ],
   "source": [
    "type(bible)"
   ]
  },
  {
   "cell_type": "code",
   "execution_count": 4,
   "metadata": {
    "collapsed": true
   },
   "outputs": [],
   "source": [
    "import pandas as pd"
   ]
  },
  {
   "cell_type": "code",
   "execution_count": 5,
   "metadata": {
    "collapsed": true
   },
   "outputs": [],
   "source": [
    "bible = list(map(lambda x: str(x).split('\\t'), bible))"
   ]
  },
  {
   "cell_type": "code",
   "execution_count": 6,
   "metadata": {
    "collapsed": true
   },
   "outputs": [],
   "source": [
    "df_bible = pd.DataFrame(list(bible))"
   ]
  },
  {
   "cell_type": "code",
   "execution_count": 7,
   "metadata": {
    "collapsed": true
   },
   "outputs": [],
   "source": [
    "df_bible.columns = ['Verse', 'Text']"
   ]
  },
  {
   "cell_type": "code",
   "execution_count": 8,
   "metadata": {
    "collapsed": true
   },
   "outputs": [],
   "source": [
    "df_bible['Text'] = df_bible['Text'].apply(lambda x: x.rstrip('\\n'))"
   ]
  },
  {
   "cell_type": "code",
   "execution_count": 9,
   "metadata": {},
   "outputs": [
    {
     "data": {
      "text/html": [
       "<div>\n",
       "<style>\n",
       "    .dataframe thead tr:only-child th {\n",
       "        text-align: right;\n",
       "    }\n",
       "\n",
       "    .dataframe thead th {\n",
       "        text-align: left;\n",
       "    }\n",
       "\n",
       "    .dataframe tbody tr th {\n",
       "        vertical-align: top;\n",
       "    }\n",
       "</style>\n",
       "<table border=\"1\" class=\"dataframe\">\n",
       "  <thead>\n",
       "    <tr style=\"text-align: right;\">\n",
       "      <th></th>\n",
       "      <th>Verse</th>\n",
       "      <th>Text</th>\n",
       "    </tr>\n",
       "  </thead>\n",
       "  <tbody>\n",
       "    <tr>\n",
       "      <th>31097</th>\n",
       "      <td>Revelation 22:17</td>\n",
       "      <td>And the Spirit and the bride say, Come. And le...</td>\n",
       "    </tr>\n",
       "    <tr>\n",
       "      <th>31098</th>\n",
       "      <td>Revelation 22:18</td>\n",
       "      <td>For I testify unto every man that heareth the ...</td>\n",
       "    </tr>\n",
       "    <tr>\n",
       "      <th>31099</th>\n",
       "      <td>Revelation 22:19</td>\n",
       "      <td>And if any man shall take away from the words ...</td>\n",
       "    </tr>\n",
       "    <tr>\n",
       "      <th>31100</th>\n",
       "      <td>Revelation 22:20</td>\n",
       "      <td>He which testifieth these things saith, Surely...</td>\n",
       "    </tr>\n",
       "    <tr>\n",
       "      <th>31101</th>\n",
       "      <td>Revelation 22:21</td>\n",
       "      <td>The grace of our Lord Jesus Christ be with you...</td>\n",
       "    </tr>\n",
       "  </tbody>\n",
       "</table>\n",
       "</div>"
      ],
      "text/plain": [
       "                  Verse                                               Text\n",
       "31097  Revelation 22:17  And the Spirit and the bride say, Come. And le...\n",
       "31098  Revelation 22:18  For I testify unto every man that heareth the ...\n",
       "31099  Revelation 22:19  And if any man shall take away from the words ...\n",
       "31100  Revelation 22:20  He which testifieth these things saith, Surely...\n",
       "31101  Revelation 22:21  The grace of our Lord Jesus Christ be with you..."
      ]
     },
     "execution_count": 9,
     "metadata": {},
     "output_type": "execute_result"
    }
   ],
   "source": [
    "df_bible.tail()"
   ]
  },
  {
   "cell_type": "code",
   "execution_count": 10,
   "metadata": {
    "collapsed": true
   },
   "outputs": [],
   "source": [
    "import seaborn as sns\n",
    "import matplotlib.pyplot as plt"
   ]
  },
  {
   "cell_type": "code",
   "execution_count": 11,
   "metadata": {
    "collapsed": true
   },
   "outputs": [],
   "source": [
    "%matplotlib inline"
   ]
  },
  {
   "cell_type": "code",
   "execution_count": 12,
   "metadata": {
    "collapsed": true
   },
   "outputs": [],
   "source": [
    "len_verse = df_bible['Text'].apply(lambda x:len(x))"
   ]
  },
  {
   "cell_type": "code",
   "execution_count": 13,
   "metadata": {},
   "outputs": [
    {
     "data": {
      "text/plain": [
       "0     54\n",
       "1    142\n",
       "2     54\n",
       "3     85\n",
       "4    115\n",
       "Name: Text, dtype: int64"
      ]
     },
     "execution_count": 13,
     "metadata": {},
     "output_type": "execute_result"
    }
   ],
   "source": [
    "len_verse.head()"
   ]
  },
  {
   "cell_type": "code",
   "execution_count": 14,
   "metadata": {},
   "outputs": [
    {
     "data": {
      "text/plain": [
       "<matplotlib.axes._subplots.AxesSubplot at 0x2292f7bd358>"
      ]
     },
     "execution_count": 14,
     "metadata": {},
     "output_type": "execute_result"
    },
    {
     "data": {
      "image/png": "[encoded data removed]",
      "text/plain": [
       "<matplotlib.figure.Figure at 0x2292f2aa320>"
      ]
     },
     "metadata": {},
     "output_type": "display_data"
    }
   ],
   "source": [
    "sns.distplot(len_verse, bins=100,kde=False)"
   ]
  },
  {
   "cell_type": "code",
   "execution_count": 15,
   "metadata": {},
   "outputs": [
    {
     "data": {
      "text/plain": [
       "0    In the beginning God created the heaven and th...\n",
       "1    And the earth was without form, and void; and ...\n",
       "2    And God said, Let there be light: and there wa...\n",
       "3    And God saw the light, that it was good: and G...\n",
       "4    And God called the light Day, and the darkness...\n",
       "Name: Text, dtype: object"
      ]
     },
     "execution_count": 15,
     "metadata": {},
     "output_type": "execute_result"
    }
   ],
   "source": [
    "df_bible['Text'].head()"
   ]
  },
  {
   "cell_type": "code",
   "execution_count": 16,
   "metadata": {
    "collapsed": true
   },
   "outputs": [],
   "source": [
    "df_bible['Just letters'] = df_bible['Text'].apply(lambda string: ''.join(e for e in string if e.isalnum()))"
   ]
  },
  {
   "cell_type": "code",
   "execution_count": 17,
   "metadata": {},
   "outputs": [
    {
     "data": {
      "text/plain": [
       "'InthebeginningGodcreatedtheheavenandtheearth'"
      ]
     },
     "execution_count": 17,
     "metadata": {},
     "output_type": "execute_result"
    }
   ],
   "source": [
    "df_bible['Just letters'].loc[0]"
   ]
  },
  {
   "cell_type": "code",
   "execution_count": 18,
   "metadata": {
    "collapsed": true
   },
   "outputs": [],
   "source": [
    "df_bible['Len Letters'] = df_bible['Just letters'].apply(lambda x:len(x))"
   ]
  },
  {
   "cell_type": "code",
   "execution_count": 19,
   "metadata": {},
   "outputs": [
    {
     "data": {
      "text/plain": [
       "<matplotlib.axes._subplots.AxesSubplot at 0x2292f1d89e8>"
      ]
     },
     "execution_count": 19,
     "metadata": {},
     "output_type": "execute_result"
    },
    {
     "data": {
      "image/png": "[encoded data removed]",
      "text/plain": [
       "<matplotlib.figure.Figure at 0x2292f776780>"
      ]
     },
     "metadata": {},
     "output_type": "display_data"
    }
   ],
   "source": [
    "sns.distplot(df_bible['Len Letters'],kde=False, bins=100)"
   ]
  },
  {
   "cell_type": "code",
   "execution_count": 20,
   "metadata": {},
   "outputs": [
    {
     "data": {
      "text/plain": [
       "65    349\n",
       "66    345\n",
       "71    341\n",
       "64    335\n",
       "63    330\n",
       "Name: Len Letters, dtype: int64"
      ]
     },
     "execution_count": 20,
     "metadata": {},
     "output_type": "execute_result"
    }
   ],
   "source": [
    "df_bible['Len Letters'].value_counts().head()"
   ]
  },
  {
   "cell_type": "code",
   "execution_count": 21,
   "metadata": {},
   "outputs": [
    {
     "data": {
      "text/plain": [
       "103.59709986496046"
      ]
     },
     "execution_count": 21,
     "metadata": {},
     "output_type": "execute_result"
    }
   ],
   "source": [
    "df_bible['Len Letters'].mean()"
   ]
  },
  {
   "cell_type": "code",
   "execution_count": 22,
   "metadata": {},
   "outputs": [
    {
     "data": {
      "text/plain": [
       "And the LORD spake unto Moses, saying,                                                                                                                                                                                                                                               72\n",
       "One young bullock, one ram, one lamb of the first year, for a burnt offering:                                                                                                                                                                                                        12\n",
       "And the word of the LORD came unto me, saying,                                                                                                                                                                                                                                       12\n",
       "One kid of the goats for a sin offering:                                                                                                                                                                                                                                             12\n",
       "One golden spoon of ten shekels, full of incense:                                                                                                                                                                                                                                    10\n",
       "Moreover the word of the LORD came unto me, saying,                                                                                                                                                                                                                                   8\n",
       "His offering was one silver charger, the weight whereof was an hundred and thirty shekels, one silver bowl of seventy shekels, after the shekel of the sanctuary; both of them full of fine flour mingled with oil for a meat offering:                                               7\n",
       "And the LORD spake unto Moses and unto Aaron, saying,                                                                                                                                                                                                                                 7\n",
       "The word of the LORD came again unto me, saying,                                                                                                                                                                                                                                      6\n",
       "Again the word of the LORD came unto me, saying,                                                                                                                                                                                                                                      6\n",
       "And their meat offering and their drink offerings for the bullocks, for the rams, and for the lambs, shall be according to their number, after the manner:                                                                                                                            5\n",
       "Then Job answered and said,                                                                                                                                                                                                                                                           4\n",
       "The grace of our Lord Jesus Christ be with you all. Amen.                                                                                                                                                                                                                             4\n",
       "Oh that men would praise the LORD for his goodness, and for his wonderful works to the children of men!                                                                                                                                                                               4\n",
       "He that hath an ear, let him hear what the Spirit saith unto the churches.                                                                                                                                                                                                            4\n",
       "Then answered Bildad the Shuhite, and said,                                                                                                                                                                                                                                           3\n",
       "Then the word of the LORD came unto me, saying,                                                                                                                                                                                                                                       3\n",
       "And one goat for a sin offering; beside the continual burnt offering, and his meat offering, and his drink offering.                                                                                                                                                                  3\n",
       "Where their worm dieth not, and the fire is not quenched.                                                                                                                                                                                                                             3\n",
       "But Job answered and said,                                                                                                                                                                                                                                                            3\n",
       "Then came the word of the LORD unto Jeremiah, saying,                                                                                                                                                                                                                                 3\n",
       "And have cast their gods into the fire: for they were no gods, but the work of men's hands, wood and stone: therefore they have destroyed them.                                                                                                                                       2\n",
       "And the sons of Javan; Elishah, and Tarshish, Kittim, and Dodanim.                                                                                                                                                                                                                    2\n",
       "For where your treasure is, there will your heart be also.                                                                                                                                                                                                                            2\n",
       "Through God we shall do valiantly: for he it is that shall tread down our enemies.                                                                                                                                                                                                    2\n",
       "And the word of the LORD came to Elijah the Tishbite, saying,                                                                                                                                                                                                                         2\n",
       "Then Job answered the LORD, and said,                                                                                                                                                                                                                                                 2\n",
       "And the two kidneys, and the fat that is upon them, which is by the flanks, and the caul above the liver, with the kidneys, it shall he take away.                                                                                                                                    2\n",
       "The children of Bakbuk, the children of Hakupha, the children of Harhur,                                                                                                                                                                                                              2\n",
       "And it came to pass, when king Hezekiah heard it, that he rent his clothes, and covered himself with sackcloth, and went into the house of the LORD.                                                                                                                                  2\n",
       "                                                                                                                                                                                                                                                                                     ..\n",
       "And of the Levites, Ahijah was over the treasures of the house of God, and over the treasures of the dedicated things.                                                                                                                                                                1\n",
       "For ye are dead, and your life is hid with Christ in God.                                                                                                                                                                                                                             1\n",
       "And David rose up early in the morning, and left the sheep with a keeper, and took, and went, as Jesse had commanded him; and he came to the trench, as the host was going forth to the fight, and shouted for the battle.                                                            1\n",
       "They took their sheep, and their oxen, and their asses, and that which was in the city, and that which was in the field,                                                                                                                                                              1\n",
       "An altar of earth thou shalt make unto me, and shalt sacrifice thereon thy burnt offerings, and thy peace offerings, thy sheep, and thine oxen: in all places where I record my name I will come unto thee, and I will bless thee.                                                    1\n",
       "And when he had thus spoken, he dismissed the assembly.                                                                                                                                                                                                                               1\n",
       "And the priest shall charge her by an oath, and say unto the woman, If no man have lain with thee, and if thou hast not gone aside to uncleanness with another instead of thy husband, be thou free from this bitter water that causeth the curse:                                    1\n",
       "Notwithstanding she shall be saved in childbearing, if they continue in faith and charity and holiness with sobriety.                                                                                                                                                                 1\n",
       "So Gad came to David, and said unto him, Thus saith the LORD, Choose thee                                                                                                                                                                                                             1\n",
       "Saul also and his men went to seek him. And they told David; wherefore he came down into a rock, and abode in the wilderness of Maon. And when Saul heard that, he pursued after David in the wilderness of Maon.                                                                     1\n",
       "But thou, O Daniel, shut up the words, and seal the book, even to the time of the end: many shall run to and fro, and knowledge shall be increased.                                                                                                                                   1\n",
       "And Jacob was left alone; and there wrestled a man with him until the breaking of the day.                                                                                                                                                                                            1\n",
       "Now when Festus was come into the province, after three days he ascended from Caesarea to Jerusalem.                                                                                                                                                                                  1\n",
       "Then answered one of the servants, and said, Behold, I have seen a son of Jesse the Bethlehemite, that is cunning in playing, and a mighty valiant man, and a man of war, and prudent in matters, and a comely person, and the LORD is with him.                                      1\n",
       "And thinkest thou this, O man, that judgest them which do such things, and doest the same, that thou shalt escape the judgment of God?                                                                                                                                                1\n",
       "For we know that the whole creation groaneth and travaileth in pain together until now.                                                                                                                                                                                               1\n",
       "And they that found him gathering sticks brought him unto Moses and Aaron, and unto all the congregation.                                                                                                                                                                             1\n",
       "Thus saith the LORD; Though they be quiet, and likewise many, yet thus shall they be cut down, when he shall pass through. Though I have afflicted thee, I will afflict thee no more.                                                                                                 1\n",
       "When they were but a few men in number; yea, very few, and strangers in it.                                                                                                                                                                                                           1\n",
       "Thus saith the Lord GOD; In the day when he went down to the grave I caused a mourning: I covered the deep for him, and I restrained the floods thereof, and the great waters were stayed: and I caused Lebanon to mourn for him, and all the trees of the field fainted for him.     1\n",
       "They say unto him, Lord, that our eyes may be opened.                                                                                                                                                                                                                                 1\n",
       "Yea, and why even of yourselves judge ye not what is right?                                                                                                                                                                                                                           1\n",
       "Behold, thou hast driven me out this day from the face of the earth; and from thy face shall I be hid; and I shall be a fugitive and a vagabond in the earth; and it shall come to pass, that every one that findeth me shall slay me.                                                1\n",
       "Mortify therefore your members which are upon the earth; fornication, uncleanness, inordinate affection, evil concupiscence, and covetousness, which is idolatry:                                                                                                                     1\n",
       "For it hath pleased them of Macedonia and Achaia to make a certain contribution for the poor saints which are at Jerusalem.                                                                                                                                                           1\n",
       "And he said unto them, Where is your faith? And they being afraid wondered, saying one to another, What manner of man is this! for he commandeth even the winds and water, and they obey him.                                                                                         1\n",
       "And when the ass saw the angel of the LORD, she fell down under Balaam: and Balaam's anger was kindled, and he smote the ass with a staff.                                                                                                                                            1\n",
       "And the same John had his raiment of camel's hair, and a leathern girdle about his loins; and his meat was locusts and wild honey.                                                                                                                                                    1\n",
       "And he went unto his father's house at Ophrah, and slew his brethren the sons of Jerubbaal, being threescore and ten persons, upon one stone: notwithstanding yet Jotham the youngest son of Jerubbaal was left; for he hid himself.                                                  1\n",
       "As keepers of a field, are they against her round about; because she hath been rebellious against me, saith the LORD.                                                                                                                                                                 1\n",
       "Name: Text, Length: 30833, dtype: int64"
      ]
     },
     "execution_count": 22,
     "metadata": {},
     "output_type": "execute_result"
    }
   ],
   "source": [
    "df_bible['Text'].value_counts()"
   ]
  },
  {
   "cell_type": "code",
   "execution_count": 23,
   "metadata": {
    "collapsed": true
   },
   "outputs": [],
   "source": [
    "df_bible['Len Words'] = df_bible['Text'].apply(lambda x:len(x.split()))"
   ]
  },
  {
   "cell_type": "code",
   "execution_count": 24,
   "metadata": {},
   "outputs": [
    {
     "data": {
      "text/html": [
       "<div>\n",
       "<style>\n",
       "    .dataframe thead tr:only-child th {\n",
       "        text-align: right;\n",
       "    }\n",
       "\n",
       "    .dataframe thead th {\n",
       "        text-align: left;\n",
       "    }\n",
       "\n",
       "    .dataframe tbody tr th {\n",
       "        vertical-align: top;\n",
       "    }\n",
       "</style>\n",
       "<table border=\"1\" class=\"dataframe\">\n",
       "  <thead>\n",
       "    <tr style=\"text-align: right;\">\n",
       "      <th></th>\n",
       "      <th>Text</th>\n",
       "      <th>Len Words</th>\n",
       "    </tr>\n",
       "  </thead>\n",
       "  <tbody>\n",
       "    <tr>\n",
       "      <th>0</th>\n",
       "      <td>In the beginning God created the heaven and th...</td>\n",
       "      <td>10</td>\n",
       "    </tr>\n",
       "    <tr>\n",
       "      <th>1</th>\n",
       "      <td>And the earth was without form, and void; and ...</td>\n",
       "      <td>29</td>\n",
       "    </tr>\n",
       "    <tr>\n",
       "      <th>2</th>\n",
       "      <td>And God said, Let there be light: and there wa...</td>\n",
       "      <td>11</td>\n",
       "    </tr>\n",
       "    <tr>\n",
       "      <th>3</th>\n",
       "      <td>And God saw the light, that it was good: and G...</td>\n",
       "      <td>17</td>\n",
       "    </tr>\n",
       "    <tr>\n",
       "      <th>4</th>\n",
       "      <td>And God called the light Day, and the darkness...</td>\n",
       "      <td>22</td>\n",
       "    </tr>\n",
       "  </tbody>\n",
       "</table>\n",
       "</div>"
      ],
      "text/plain": [
       "                                                Text  Len Words\n",
       "0  In the beginning God created the heaven and th...         10\n",
       "1  And the earth was without form, and void; and ...         29\n",
       "2  And God said, Let there be light: and there wa...         11\n",
       "3  And God saw the light, that it was good: and G...         17\n",
       "4  And God called the light Day, and the darkness...         22"
      ]
     },
     "execution_count": 24,
     "metadata": {},
     "output_type": "execute_result"
    }
   ],
   "source": [
    "df_bible[['Text','Len Words']].head()"
   ]
  },
  {
   "cell_type": "code",
   "execution_count": 25,
   "metadata": {},
   "outputs": [
    {
     "data": {
      "text/plain": [
       "'In the beginning God created the heaven and the earth.'"
      ]
     },
     "execution_count": 25,
     "metadata": {},
     "output_type": "execute_result"
    }
   ],
   "source": [
    "df_bible['Text'].loc[0]"
   ]
  },
  {
   "cell_type": "code",
   "execution_count": 26,
   "metadata": {
    "collapsed": true
   },
   "outputs": [],
   "source": [
    "with open (\"bible.txt\", \"r\") as myfile:\n",
    "    bible = myfile.readlines()"
   ]
  },
  {
   "cell_type": "code",
   "execution_count": 27,
   "metadata": {
    "collapsed": true
   },
   "outputs": [],
   "source": [
    "bible = list(map(lambda x: str(x).split('\\t'), bible))"
   ]
  },
  {
   "cell_type": "code",
   "execution_count": 28,
   "metadata": {
    "collapsed": true
   },
   "outputs": [],
   "source": [
    "bible = pd.DataFrame(list(bible))"
   ]
  },
  {
   "cell_type": "code",
   "execution_count": 29,
   "metadata": {
    "collapsed": true
   },
   "outputs": [],
   "source": [
    "bible.columns = ['Verse', 'Text']"
   ]
  },
  {
   "cell_type": "code",
   "execution_count": 30,
   "metadata": {
    "collapsed": true
   },
   "outputs": [],
   "source": [
    "str_whole_bible = ''\n",
    "for i in bible['Text']:\n",
    "    str_whole_bible += i"
   ]
  },
  {
   "cell_type": "code",
   "execution_count": 31,
   "metadata": {
    "collapsed": true
   },
   "outputs": [],
   "source": [
    "str_whole_bible = str_whole_bible.replace('\\n', ' ')"
   ]
  },
  {
   "cell_type": "code",
   "execution_count": 32,
   "metadata": {},
   "outputs": [
    {
     "data": {
      "text/plain": [
       "4137428"
      ]
     },
     "execution_count": 32,
     "metadata": {},
     "output_type": "execute_result"
    }
   ],
   "source": [
    "len(str_whole_bible)"
   ]
  },
  {
   "cell_type": "code",
   "execution_count": 33,
   "metadata": {
    "collapsed": true
   },
   "outputs": [],
   "source": [
    "import re\n",
    "whole_bible = re.sub(r'([^\\s\\w]|_)+', '', str_whole_bible)"
   ]
  },
  {
   "cell_type": "code",
   "execution_count": 34,
   "metadata": {
    "collapsed": true
   },
   "outputs": [],
   "source": [
    "whole_bible = pd.DataFrame(whole_bible.split())"
   ]
  },
  {
   "cell_type": "code",
   "execution_count": 35,
   "metadata": {
    "collapsed": true
   },
   "outputs": [],
   "source": [
    "whole_bible[1] = whole_bible[0].apply(lambda x: x.lower())"
   ]
  },
  {
   "cell_type": "code",
   "execution_count": 36,
   "metadata": {},
   "outputs": [
    {
     "data": {
      "text/plain": [
       "789627"
      ]
     },
     "execution_count": 36,
     "metadata": {},
     "output_type": "execute_result"
    }
   ],
   "source": [
    "len(whole_bible[1])"
   ]
  },
  {
   "cell_type": "code",
   "execution_count": 37,
   "metadata": {
    "collapsed": true
   },
   "outputs": [],
   "source": [
    "import string"
   ]
  },
  {
   "cell_type": "code",
   "execution_count": 38,
   "metadata": {
    "collapsed": true
   },
   "outputs": [],
   "source": [
    "import nltk"
   ]
  },
  {
   "cell_type": "code",
   "execution_count": 39,
   "metadata": {},
   "outputs": [
    {
     "data": {
      "text/plain": [
       "False    8708\n",
       "True     4019\n",
       "Name: 1, dtype: int64"
      ]
     },
     "execution_count": 39,
     "metadata": {},
     "output_type": "execute_result"
    }
   ],
   "source": [
    "one_time = whole_bible[1].value_counts() == 1\n",
    "one_time.value_counts()"
   ]
  },
  {
   "cell_type": "code",
   "execution_count": 40,
   "metadata": {
    "collapsed": true
   },
   "outputs": [],
   "source": [
    "whole_bible.columns = ['Words', 'Lower Words']"
   ]
  },
  {
   "cell_type": "code",
   "execution_count": 41,
   "metadata": {},
   "outputs": [
    {
     "data": {
      "text/html": [
       "<div>\n",
       "<style>\n",
       "    .dataframe thead tr:only-child th {\n",
       "        text-align: right;\n",
       "    }\n",
       "\n",
       "    .dataframe thead th {\n",
       "        text-align: left;\n",
       "    }\n",
       "\n",
       "    .dataframe tbody tr th {\n",
       "        vertical-align: top;\n",
       "    }\n",
       "</style>\n",
       "<table border=\"1\" class=\"dataframe\">\n",
       "  <thead>\n",
       "    <tr style=\"text-align: right;\">\n",
       "      <th></th>\n",
       "      <th>Words</th>\n",
       "      <th>Lower Words</th>\n",
       "    </tr>\n",
       "  </thead>\n",
       "  <tbody>\n",
       "    <tr>\n",
       "      <th>count</th>\n",
       "      <td>789627</td>\n",
       "      <td>789627</td>\n",
       "    </tr>\n",
       "    <tr>\n",
       "      <th>unique</th>\n",
       "      <td>13718</td>\n",
       "      <td>12727</td>\n",
       "    </tr>\n",
       "    <tr>\n",
       "      <th>top</th>\n",
       "      <td>the</td>\n",
       "      <td>the</td>\n",
       "    </tr>\n",
       "    <tr>\n",
       "      <th>freq</th>\n",
       "      <td>62064</td>\n",
       "      <td>63924</td>\n",
       "    </tr>\n",
       "  </tbody>\n",
       "</table>\n",
       "</div>"
      ],
      "text/plain": [
       "         Words Lower Words\n",
       "count   789627      789627\n",
       "unique   13718       12727\n",
       "top        the         the\n",
       "freq     62064       63924"
      ]
     },
     "execution_count": 41,
     "metadata": {},
     "output_type": "execute_result"
    }
   ],
   "source": [
    "whole_bible.describe()"
   ]
  },
  {
   "cell_type": "code",
   "execution_count": 42,
   "metadata": {
    "collapsed": true
   },
   "outputs": [],
   "source": [
    "df_bible['Text List'] = df_bible['Text'].apply(lambda x:x.split())"
   ]
  },
  {
   "cell_type": "code",
   "execution_count": 43,
   "metadata": {},
   "outputs": [
    {
     "data": {
      "text/html": [
       "<div>\n",
       "<style>\n",
       "    .dataframe thead tr:only-child th {\n",
       "        text-align: right;\n",
       "    }\n",
       "\n",
       "    .dataframe thead th {\n",
       "        text-align: left;\n",
       "    }\n",
       "\n",
       "    .dataframe tbody tr th {\n",
       "        vertical-align: top;\n",
       "    }\n",
       "</style>\n",
       "<table border=\"1\" class=\"dataframe\">\n",
       "  <thead>\n",
       "    <tr style=\"text-align: right;\">\n",
       "      <th></th>\n",
       "      <th>Verse</th>\n",
       "      <th>Text</th>\n",
       "      <th>Just letters</th>\n",
       "      <th>Len Letters</th>\n",
       "      <th>Len Words</th>\n",
       "      <th>Text List</th>\n",
       "    </tr>\n",
       "  </thead>\n",
       "  <tbody>\n",
       "    <tr>\n",
       "      <th>0</th>\n",
       "      <td>Genesis 1:1</td>\n",
       "      <td>In the beginning God created the heaven and th...</td>\n",
       "      <td>InthebeginningGodcreatedtheheavenandtheearth</td>\n",
       "      <td>44</td>\n",
       "      <td>10</td>\n",
       "      <td>[In, the, beginning, God, created, the, heaven...</td>\n",
       "    </tr>\n",
       "    <tr>\n",
       "      <th>1</th>\n",
       "      <td>Genesis 1:2</td>\n",
       "      <td>And the earth was without form, and void; and ...</td>\n",
       "      <td>Andtheearthwaswithoutformandvoidanddarknesswas...</td>\n",
       "      <td>110</td>\n",
       "      <td>29</td>\n",
       "      <td>[And, the, earth, was, without, form,, and, vo...</td>\n",
       "    </tr>\n",
       "    <tr>\n",
       "      <th>2</th>\n",
       "      <td>Genesis 1:3</td>\n",
       "      <td>And God said, Let there be light: and there wa...</td>\n",
       "      <td>AndGodsaidLettherebelightandtherewaslight</td>\n",
       "      <td>41</td>\n",
       "      <td>11</td>\n",
       "      <td>[And, God, said,, Let, there, be, light:, and,...</td>\n",
       "    </tr>\n",
       "    <tr>\n",
       "      <th>3</th>\n",
       "      <td>Genesis 1:4</td>\n",
       "      <td>And God saw the light, that it was good: and G...</td>\n",
       "      <td>AndGodsawthelightthatitwasgoodandGoddividedthe...</td>\n",
       "      <td>66</td>\n",
       "      <td>17</td>\n",
       "      <td>[And, God, saw, the, light,, that, it, was, go...</td>\n",
       "    </tr>\n",
       "    <tr>\n",
       "      <th>4</th>\n",
       "      <td>Genesis 1:5</td>\n",
       "      <td>And God called the light Day, and the darkness...</td>\n",
       "      <td>AndGodcalledthelightDayandthedarknesshecalledN...</td>\n",
       "      <td>91</td>\n",
       "      <td>22</td>\n",
       "      <td>[And, God, called, the, light, Day,, and, the,...</td>\n",
       "    </tr>\n",
       "  </tbody>\n",
       "</table>\n",
       "</div>"
      ],
      "text/plain": [
       "         Verse                                               Text  \\\n",
       "0  Genesis 1:1  In the beginning God created the heaven and th...   \n",
       "1  Genesis 1:2  And the earth was without form, and void; and ...   \n",
       "2  Genesis 1:3  And God said, Let there be light: and there wa...   \n",
       "3  Genesis 1:4  And God saw the light, that it was good: and G...   \n",
       "4  Genesis 1:5  And God called the light Day, and the darkness...   \n",
       "\n",
       "                                        Just letters  Len Letters  Len Words  \\\n",
       "0       InthebeginningGodcreatedtheheavenandtheearth           44         10   \n",
       "1  Andtheearthwaswithoutformandvoidanddarknesswas...          110         29   \n",
       "2          AndGodsaidLettherebelightandtherewaslight           41         11   \n",
       "3  AndGodsawthelightthatitwasgoodandGoddividedthe...           66         17   \n",
       "4  AndGodcalledthelightDayandthedarknesshecalledN...           91         22   \n",
       "\n",
       "                                           Text List  \n",
       "0  [In, the, beginning, God, created, the, heaven...  \n",
       "1  [And, the, earth, was, without, form,, and, vo...  \n",
       "2  [And, God, said,, Let, there, be, light:, and,...  \n",
       "3  [And, God, saw, the, light,, that, it, was, go...  \n",
       "4  [And, God, called, the, light, Day,, and, the,...  "
      ]
     },
     "execution_count": 43,
     "metadata": {},
     "output_type": "execute_result"
    }
   ],
   "source": [
    "df_bible.head()"
   ]
  },
  {
   "cell_type": "code",
   "execution_count": 44,
   "metadata": {
    "collapsed": true
   },
   "outputs": [],
   "source": [
    "def text_process(mess):\n",
    "    \"\"\"\n",
    "    Takes in a string of text, then performs the following:\n",
    "    1. Remove all punctuation\n",
    "    2. Remove all stopwords\n",
    "    3. Returns a list of the cleaned text\n",
    "    \"\"\"\n",
    "    # Check characters to see if they are in punctuation\n",
    "    nopunc = [char for char in mess if char not in string.punctuation]\n",
    "\n",
    "    # Join the characters again to form the string.\n",
    "    nopunc = ''.join(nopunc)\n",
    "    \n",
    "    # Now just remove any stopwords\n",
    "    return [word for word in nopunc.split() if word.lower() not in stopwords.words('english')]"
   ]
  },
  {
   "cell_type": "code",
   "execution_count": 45,
   "metadata": {
    "collapsed": true
   },
   "outputs": [],
   "source": [
    "from nltk.corpus import stopwords"
   ]
  },
  {
   "cell_type": "code",
   "execution_count": 46,
   "metadata": {
    "collapsed": true
   },
   "outputs": [],
   "source": [
    "df_bible['Text List w/o Stopwords'] = df_bible['Text'].apply(text_process)"
   ]
  },
  {
   "cell_type": "code",
   "execution_count": 47,
   "metadata": {},
   "outputs": [
    {
     "data": {
      "text/plain": [
       "0             [beginning, God, created, heaven, earth]\n",
       "1    [earth, without, form, void, darkness, upon, f...\n",
       "2                       [God, said, Let, light, light]\n",
       "3    [God, saw, light, good, God, divided, light, d...\n",
       "4    [God, called, light, Day, darkness, called, Ni...\n",
       "Name: Text List w/o Stopwords, dtype: object"
      ]
     },
     "execution_count": 47,
     "metadata": {},
     "output_type": "execute_result"
    }
   ],
   "source": [
    "df_bible['Text List w/o Stopwords'].head()"
   ]
  },
  {
   "cell_type": "code",
   "execution_count": 48,
   "metadata": {
    "collapsed": true
   },
   "outputs": [],
   "source": [
    "words = []\n",
    "for i in df_bible['Text List w/o Stopwords']:\n",
    "    for j in i:\n",
    "        words.append(j.lower())\n",
    "words = pd.DataFrame(words, columns=['Words'])"
   ]
  },
  {
   "cell_type": "code",
   "execution_count": 49,
   "metadata": {},
   "outputs": [
    {
     "data": {
      "text/plain": [
       "shall            9838\n",
       "unto             8997\n",
       "lord             7830\n",
       "thou             5474\n",
       "thy              4600\n",
       "god              4443\n",
       "said             3999\n",
       "ye               3982\n",
       "thee             3826\n",
       "upon             2748\n",
       "man              2613\n",
       "israel           2565\n",
       "son              2370\n",
       "hath             2264\n",
       "king             2256\n",
       "people           2139\n",
       "came             2093\n",
       "house            2024\n",
       "come             1971\n",
       "one              1967\n",
       "children         1803\n",
       "also             1769\n",
       "day              1734\n",
       "land             1718\n",
       "men              1654\n",
       "shalt            1616\n",
       "let              1511\n",
       "go               1492\n",
       "hand             1466\n",
       "us               1448\n",
       "                 ... \n",
       "wroughtest          1\n",
       "leftest             1\n",
       "lionesses           1\n",
       "trying              1\n",
       "oar                 1\n",
       "diblaim             1\n",
       "thamah              1\n",
       "korahite            1\n",
       "threefold           1\n",
       "caterpillar         1\n",
       "kirioth             1\n",
       "deer                1\n",
       "dagons              1\n",
       "zemira              1\n",
       "converting          1\n",
       "almsdeeds           1\n",
       "castor              1\n",
       "jude                1\n",
       "netophathi          1\n",
       "potsherds           1\n",
       "spokesman           1\n",
       "coucheth            1\n",
       "fishermen           1\n",
       "shallun             1\n",
       "rainy               1\n",
       "silverlings         1\n",
       "elis                1\n",
       "forgetfulness       1\n",
       "threwest            1\n",
       "pison               1\n",
       "Name: Words, Length: 12603, dtype: int64"
      ]
     },
     "execution_count": 49,
     "metadata": {},
     "output_type": "execute_result"
    }
   ],
   "source": [
    "words['Words'].value_counts()"
   ]
  },
  {
   "cell_type": "code",
   "execution_count": 50,
   "metadata": {},
   "outputs": [
    {
     "data": {
      "text/plain": [
       "count     374695\n",
       "unique     12603\n",
       "top        shall\n",
       "freq        9838\n",
       "Name: Words, dtype: object"
      ]
     },
     "execution_count": 50,
     "metadata": {},
     "output_type": "execute_result"
    }
   ],
   "source": [
    "words['Words'].describe()"
   ]
  },
  {
   "cell_type": "code",
   "execution_count": 51,
   "metadata": {},
   "outputs": [
    {
     "data": {
      "text/html": [
       "<div>\n",
       "<style>\n",
       "    .dataframe thead tr:only-child th {\n",
       "        text-align: right;\n",
       "    }\n",
       "\n",
       "    .dataframe thead th {\n",
       "        text-align: left;\n",
       "    }\n",
       "\n",
       "    .dataframe tbody tr th {\n",
       "        vertical-align: top;\n",
       "    }\n",
       "</style>\n",
       "<table border=\"1\" class=\"dataframe\">\n",
       "  <thead>\n",
       "    <tr style=\"text-align: right;\">\n",
       "      <th></th>\n",
       "      <th>Verse</th>\n",
       "      <th>Text</th>\n",
       "      <th>Just letters</th>\n",
       "      <th>Len Letters</th>\n",
       "      <th>Len Words</th>\n",
       "      <th>Text List</th>\n",
       "      <th>Text List w/o Stopwords</th>\n",
       "    </tr>\n",
       "  </thead>\n",
       "  <tbody>\n",
       "    <tr>\n",
       "      <th>18668</th>\n",
       "      <td>Isaiah 50:6</td>\n",
       "      <td>I gave my back to the smiters, and my cheeks t...</td>\n",
       "      <td>Igavemybacktothesmitersandmycheekstothemthatpl...</td>\n",
       "      <td>94</td>\n",
       "      <td>26</td>\n",
       "      <td>[I, gave, my, back, to, the, smiters,, and, my...</td>\n",
       "      <td>[gave, back, smiters, cheeks, plucked, hair, h...</td>\n",
       "    </tr>\n",
       "  </tbody>\n",
       "</table>\n",
       "</div>"
      ],
      "text/plain": [
       "             Verse                                               Text  \\\n",
       "18668  Isaiah 50:6  I gave my back to the smiters, and my cheeks t...   \n",
       "\n",
       "                                            Just letters  Len Letters  \\\n",
       "18668  Igavemybacktothesmitersandmycheekstothemthatpl...           94   \n",
       "\n",
       "       Len Words                                          Text List  \\\n",
       "18668         26  [I, gave, my, back, to, the, smiters,, and, my...   \n",
       "\n",
       "                                 Text List w/o Stopwords  \n",
       "18668  [gave, back, smiters, cheeks, plucked, hair, h...  "
      ]
     },
     "execution_count": 51,
     "metadata": {},
     "output_type": "execute_result"
    }
   ],
   "source": [
    "df_bible[df_bible['Text'].str.contains('spitting')]"
   ]
  },
  {
   "cell_type": "code",
   "execution_count": 52,
   "metadata": {},
   "outputs": [
    {
     "data": {
      "text/plain": [
       "'The changeable suits of apparel, and the mantles, and the wimples, and the crisping pins,'"
      ]
     },
     "execution_count": 52,
     "metadata": {},
     "output_type": "execute_result"
    }
   ],
   "source": [
    "df_bible['Text'].loc[17729]"
   ]
  },
  {
   "cell_type": "code",
   "execution_count": 53,
   "metadata": {},
   "outputs": [
    {
     "data": {
      "text/plain": [
       "the            62064\n",
       "and            38847\n",
       "of             34427\n",
       "to             13377\n",
       "And            12846\n",
       "that           12577\n",
       "in             12331\n",
       "shall           9760\n",
       "he              9666\n",
       "unto            8940\n",
       "I               8854\n",
       "his             8385\n",
       "a               7943\n",
       "for             7228\n",
       "they            6970\n",
       "be              6877\n",
       "is              6832\n",
       "him             6649\n",
       "not             6553\n",
       "LORD            6539\n",
       "them            6425\n",
       "with            5961\n",
       "it              5891\n",
       "all             5426\n",
       "thou            4890\n",
       "was             4515\n",
       "thy             4450\n",
       "which           4283\n",
       "my              4135\n",
       "me              4092\n",
       "               ...  \n",
       "feignedly          1\n",
       "Machnadebai        1\n",
       "Train              1\n",
       "beetle             1\n",
       "Abi                1\n",
       "authorities        1\n",
       "Eran               1\n",
       "chiding            1\n",
       "swellings          1\n",
       "visiteth           1\n",
       "possessest         1\n",
       "Hadrach            1\n",
       "Izehar             1\n",
       "Pithom             1\n",
       "Ishpan             1\n",
       "disputation        1\n",
       "wateredst          1\n",
       "forswear           1\n",
       "allied             1\n",
       "Ava                1\n",
       "Jaaziel            1\n",
       "Jogli              1\n",
       "Sabta              1\n",
       "consult            1\n",
       "Boil               1\n",
       "Ezrahite           1\n",
       "trickleth          1\n",
       "Colosse            1\n",
       "excellest          1\n",
       "stillest           1\n",
       "Name: Words, Length: 13718, dtype: int64"
      ]
     },
     "execution_count": 53,
     "metadata": {},
     "output_type": "execute_result"
    }
   ],
   "source": [
    "whole_bible['Words'].value_counts()"
   ]
  },
  {
   "cell_type": "code",
   "execution_count": 54,
   "metadata": {
    "collapsed": true
   },
   "outputs": [],
   "source": [
    "from nltk.stem import PorterStemmer"
   ]
  },
  {
   "cell_type": "code",
   "execution_count": 55,
   "metadata": {
    "collapsed": true
   },
   "outputs": [],
   "source": [
    "ps = PorterStemmer()"
   ]
  },
  {
   "cell_type": "code",
   "execution_count": 56,
   "metadata": {
    "collapsed": true
   },
   "outputs": [],
   "source": [
    "whole_bible['Stemmed'] = whole_bible['Lower Words'].apply(lambda x: ps.stem(x))"
   ]
  },
  {
   "cell_type": "code",
   "execution_count": 57,
   "metadata": {},
   "outputs": [
    {
     "data": {
      "text/plain": [
       "count     789627\n",
       "unique      9356\n",
       "top          the\n",
       "freq       63924\n",
       "Name: Stemmed, dtype: object"
      ]
     },
     "execution_count": 57,
     "metadata": {},
     "output_type": "execute_result"
    }
   ],
   "source": [
    "whole_bible['Stemmed'].describe()"
   ]
  },
  {
   "cell_type": "code",
   "execution_count": null,
   "metadata": {
    "collapsed": true
   },
   "outputs": [],
   "source": []
  }
 ],
 "metadata": {
  "kernelspec": {
   "display_name": "Python 3",
   "language": "python",
   "name": "python3"
  },
  "language_info": {
   "codemirror_mode": {
    "name": "ipython",
    "version": 3
   },
   "file_extension": ".py",
   "mimetype": "text/x-python",
   "name": "python",
   "nbconvert_exporter": "python",
   "pygments_lexer": "ipython3",
   "version": "3.6.2"
  }
 },
 "nbformat": 4,
 "nbformat_minor": 2
}
