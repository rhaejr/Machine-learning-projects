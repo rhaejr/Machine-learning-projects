{
 "cells": [
  {
   "cell_type": "code",
   "execution_count": 1,
   "metadata": {
    "collapsed": true
   },
   "outputs": [],
   "source": [
    "import sqlite3\n",
    "import pandas as pd\n"
   ]
  },
  {
   "cell_type": "code",
   "execution_count": 2,
   "metadata": {},
   "outputs": [
    {
     "name": "stdout",
     "output_type": "stream",
     "text": [
      "100000 rows completed so far\n",
      "200000 rows completed so far\n",
      "300000 rows completed so far\n",
      "400000 rows completed so far\n",
      "500000 rows completed so far\n",
      "600000 rows completed so far\n",
      "700000 rows completed so far\n",
      "800000 rows completed so far\n",
      "900000 rows completed so far\n",
      "1000000 rows completed so far\n",
      "1100000 rows completed so far\n",
      "1200000 rows completed so far\n",
      "1300000 rows completed so far\n",
      "1400000 rows completed so far\n",
      "1500000 rows completed so far\n",
      "1600000 rows completed so far\n",
      "1700000 rows completed so far\n",
      "1800000 rows completed so far\n",
      "1900000 rows completed so far\n",
      "2000000 rows completed so far\n",
      "2100000 rows completed so far\n",
      "2200000 rows completed so far\n",
      "2300000 rows completed so far\n",
      "2400000 rows completed so far\n",
      "2500000 rows completed so far\n",
      "2600000 rows completed so far\n",
      "2700000 rows completed so far\n",
      "2800000 rows completed so far\n",
      "2900000 rows completed so far\n",
      "3000000 rows completed so far\n"
     ]
    }
   ],
   "source": [
    "timeframes = ['2015-01']\n",
    "\n",
    "for timeframe in timeframes:\n",
    "    connection = sqlite3.connect('{}.db'.format(timeframe))\n",
    "    c = connection.cursor()\n",
    "    limit = 5000\n",
    "    last_unix = 0\n",
    "    cur_length = limit\n",
    "    counter = 0\n",
    "    test_done = False\n",
    "    while cur_length == limit:\n",
    "        df = pd.read_sql(\"SELECT * FROM parent_reply WHERE unix > {} and parent NOT NULL and score > 0 ORDER BY unix ASC LIMIT {}\".format(last_unix,limit),connection)\n",
    "        last_unix = df.tail(1)['unix'].values[0]\n",
    "        cur_length = len(df)\n",
    "        if not test_done:\n",
    "            with open('test.from','a',encoding='utf8') as f:\n",
    "                for content in df['parent'].values:\n",
    "                    f.write(content+'\\n')\n",
    "            with open('test.to','a',encoding='utf8') as f:\n",
    "                for content in df['comment'].values:\n",
    "                    f.write(content+'\\n')\n",
    "                    \n",
    "            test_done = True\n",
    "        else:\n",
    "            with open('train.from','a',encoding='utf8') as f:\n",
    "                for content in df['parent'].values:\n",
    "                    f.write(content+'\\n')\n",
    "            with open('train.to','a',encoding='utf8') as f:\n",
    "                for content in df['comment'].values:\n",
    "                    f.write(content+'\\n')\n",
    "                    \n",
    "        counter +=1\n",
    "        if counter % 20 == 0:\n",
    "            print(counter*limit,'rows completed so far')\n",
    "            \n",
    "            "
   ]
  },
  {
   "cell_type": "code",
   "execution_count": null,
   "metadata": {
    "collapsed": true
   },
   "outputs": [],
   "source": []
  }
 ],
 "metadata": {
  "kernelspec": {
   "display_name": "Python [conda root]",
   "language": "python",
   "name": "conda-root-py"
  },
  "language_info": {
   "codemirror_mode": {
    "name": "ipython",
    "version": 3
   },
   "file_extension": ".py",
   "mimetype": "text/x-python",
   "name": "python",
   "nbconvert_exporter": "python",
   "pygments_lexer": "ipython3",
   "version": "3.5.3"
  }
 },
 "nbformat": 4,
 "nbformat_minor": 2
}
